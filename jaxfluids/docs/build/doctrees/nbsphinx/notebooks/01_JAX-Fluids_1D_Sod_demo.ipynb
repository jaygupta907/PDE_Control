{
 "cells": [
  {
   "cell_type": "markdown",
   "id": "6c628043",
   "metadata": {},
   "source": [
    "# JAX-Fluids: Sod shock tube demo\n",
    "This demo will demonstrate how you can run a simple 1D simulation with JAX-Fluids. Here, we simulate the Sod shock tube."
   ]
  },
  {
   "cell_type": "code",
   "execution_count": 1,
   "id": "6c582ab9",
   "metadata": {
    "execution": {
     "iopub.execute_input": "2023-12-22T17:50:44.128928Z",
     "iopub.status.busy": "2023-12-22T17:50:44.128620Z",
     "iopub.status.idle": "2023-12-22T17:50:44.595309Z",
     "shell.execute_reply": "2023-12-22T17:50:44.594950Z"
    }
   },
   "outputs": [],
   "source": [
    "from jaxfluids import InputReader, Initializer, SimulationManager\n",
    "from jaxfluids.post_process import load_data, create_lineplot"
   ]
  },
  {
   "cell_type": "markdown",
   "id": "7bd5e387",
   "metadata": {},
   "source": [
    "## Simulation Setup\n",
    "To run a forward simulation with JAX-Fluids, you need an InputRead, an Initializer, and a SimulationManager."
   ]
  },
  {
   "cell_type": "markdown",
   "id": "a45cc71b",
   "metadata": {},
   "source": [
    "The InputReader reads a case setup file (here, \"01_case_setup_sod.json\") and a numerical setup file (here, \"01_numerical_setup_sod.json\"). We can pass the path to those files as strings to the InputReader. The case setup specifies the physical setup of your simulation and the numerical setup specifies with which numerical methods you want to run your simulation."
   ]
  },
  {
   "cell_type": "code",
   "execution_count": 2,
   "id": "9845f7d5",
   "metadata": {
    "execution": {
     "iopub.execute_input": "2023-12-22T17:50:44.597084Z",
     "iopub.status.busy": "2023-12-22T17:50:44.596948Z",
     "iopub.status.idle": "2023-12-22T17:50:44.776244Z",
     "shell.execute_reply": "2023-12-22T17:50:44.775882Z"
    }
   },
   "outputs": [],
   "source": [
    "input_reader = InputReader(\"01_case_setup_sod.json\", \"01_numerical_setup_sod.json\")\n",
    "initializer  = Initializer(input_reader)\n",
    "sim_manager  = SimulationManager(input_reader)"
   ]
  },
  {
   "cell_type": "markdown",
   "id": "b2fb3f77",
   "metadata": {},
   "source": [
    "## Run Simulation\n",
    "The Initializer creates a dictionary which contains all initial flow fields. The SimulationManager runs the simulation and writes h5 output files."
   ]
  },
  {
   "cell_type": "code",
   "execution_count": 3,
   "id": "cf7c8231",
   "metadata": {
    "execution": {
     "iopub.execute_input": "2023-12-22T17:50:44.777930Z",
     "iopub.status.busy": "2023-12-22T17:50:44.777848Z",
     "iopub.status.idle": "2023-12-22T17:50:48.513543Z",
     "shell.execute_reply": "2023-12-22T17:50:48.513324Z"
    }
   },
   "outputs": [
    {
     "name": "stderr",
     "output_type": "stream",
     "text": [
      "*------------------------------------------------------------------------------*\n"
     ]
    },
    {
     "name": "stderr",
     "output_type": "stream",
     "text": [
      "*                                                                              *\n"
     ]
    },
    {
     "name": "stderr",
     "output_type": "stream",
     "text": [
      "*                                                                              *\n"
     ]
    },
    {
     "name": "stderr",
     "output_type": "stream",
     "text": [
      "*          _     _    __  __        _____  _      _   _  ___  ____   ____      *\n"
     ]
    },
    {
     "name": "stderr",
     "output_type": "stream",
     "text": [
      "*         | |   / \\   \\ \\/ /       |  ___|| |    | | | ||_ _||  _ \\ / ___|     *\n"
     ]
    },
    {
     "name": "stderr",
     "output_type": "stream",
     "text": [
      "*      _  | |  / _ \\   \\  /  _____ | |_   | |    | | | | | | | | | |\\___ \\     *\n"
     ]
    },
    {
     "name": "stderr",
     "output_type": "stream",
     "text": [
      "*     | |_| | / ___ \\  /  \\ |_____||  _|  | |___ | |_| | | | | |_| | ___) |    *\n"
     ]
    },
    {
     "name": "stderr",
     "output_type": "stream",
     "text": [
      "*      \\___/ /_/   \\_\\/_/\\_\\       |_|    |_____| \\___/ |___||____/ |____/     *\n"
     ]
    },
    {
     "name": "stderr",
     "output_type": "stream",
     "text": [
      "*                                                                              *\n"
     ]
    },
    {
     "name": "stderr",
     "output_type": "stream",
     "text": [
      "*                                By BB - ML@AER                                *\n"
     ]
    },
    {
     "name": "stderr",
     "output_type": "stream",
     "text": [
      "*                                                                              *\n"
     ]
    },
    {
     "name": "stderr",
     "output_type": "stream",
     "text": [
      "*------------------------------------------------------------------------------*\n"
     ]
    },
    {
     "name": "stderr",
     "output_type": "stream",
     "text": [
      "* JAX-FLUIDS -                                                                 *\n"
     ]
    },
    {
     "name": "stderr",
     "output_type": "stream",
     "text": [
      "*                                                                              *\n"
     ]
    },
    {
     "name": "stderr",
     "output_type": "stream",
     "text": [
      "* A fully-differentiable CFD solver for compressible two-phase flows.          *\n"
     ]
    },
    {
     "name": "stderr",
     "output_type": "stream",
     "text": [
      "* Copyright (C) 2022  Deniz A. Bezgin, Aaron B. Buhendwa, Nikolaus A. Adams    *\n"
     ]
    },
    {
     "name": "stderr",
     "output_type": "stream",
     "text": [
      "*                                                                              *\n"
     ]
    },
    {
     "name": "stderr",
     "output_type": "stream",
     "text": [
      "* This program is free software: you can redistribute it and/or modify         *\n"
     ]
    },
    {
     "name": "stderr",
     "output_type": "stream",
     "text": [
      "* it under the terms of the GNU General Public License as published by         *\n"
     ]
    },
    {
     "name": "stderr",
     "output_type": "stream",
     "text": [
      "* the Free Software Foundation, either version 3 of the License, or            *\n"
     ]
    },
    {
     "name": "stderr",
     "output_type": "stream",
     "text": [
      "* (at your option) any later version.                                          *\n"
     ]
    },
    {
     "name": "stderr",
     "output_type": "stream",
     "text": [
      "*                                                                              *\n"
     ]
    },
    {
     "name": "stderr",
     "output_type": "stream",
     "text": [
      "* This program is distributed in the hope that it will be useful,              *\n"
     ]
    },
    {
     "name": "stderr",
     "output_type": "stream",
     "text": [
      "* but WITHOUT ANY WARRANTY; without even the implied warranty of               *\n"
     ]
    },
    {
     "name": "stderr",
     "output_type": "stream",
     "text": [
      "* MERCHANTABILITY or FITNESS FOR A PARTICULAR PURPOSE.  See the                *\n"
     ]
    },
    {
     "name": "stderr",
     "output_type": "stream",
     "text": [
      "* GNU General Public License for more details.                                 *\n"
     ]
    },
    {
     "name": "stderr",
     "output_type": "stream",
     "text": [
      "*                                                                              *\n"
     ]
    },
    {
     "name": "stderr",
     "output_type": "stream",
     "text": [
      "* You should have received a copy of the GNU General Public License            *\n"
     ]
    },
    {
     "name": "stderr",
     "output_type": "stream",
     "text": [
      "* along with this program.  If not, see <https://www.gnu.org/licenses/>.       *\n"
     ]
    },
    {
     "name": "stderr",
     "output_type": "stream",
     "text": [
      "*                                                                              *\n"
     ]
    },
    {
     "name": "stderr",
     "output_type": "stream",
     "text": [
      "*------------------------------------------------------------------------------*\n"
     ]
    },
    {
     "name": "stderr",
     "output_type": "stream",
     "text": [
      "*                                                                              *\n"
     ]
    },
    {
     "name": "stderr",
     "output_type": "stream",
     "text": [
      "* CONTACT                                                                      *\n"
     ]
    },
    {
     "name": "stderr",
     "output_type": "stream",
     "text": [
      "*                                                                              *\n"
     ]
    },
    {
     "name": "stderr",
     "output_type": "stream",
     "text": [
      "* deniz.bezgin@tum.de // aaron.buhendwa@tum.de // nikolaus.adams@tum.de        *\n"
     ]
    },
    {
     "name": "stderr",
     "output_type": "stream",
     "text": [
      "*                                                                              *\n"
     ]
    },
    {
     "name": "stderr",
     "output_type": "stream",
     "text": [
      "*------------------------------------------------------------------------------*\n"
     ]
    },
    {
     "name": "stderr",
     "output_type": "stream",
     "text": [
      "*                                                                              *\n"
     ]
    },
    {
     "name": "stderr",
     "output_type": "stream",
     "text": [
      "* Munich, April 15th, 2022                                                     *\n"
     ]
    },
    {
     "name": "stderr",
     "output_type": "stream",
     "text": [
      "*                                                                              *\n"
     ]
    },
    {
     "name": "stderr",
     "output_type": "stream",
     "text": [
      "*------------------------------------------------------------------------------*\n"
     ]
    },
    {
     "name": "stderr",
     "output_type": "stream",
     "text": [
      "*                                                                              *\n"
     ]
    },
    {
     "name": "stderr",
     "output_type": "stream",
     "text": [
      "*                                                                              *\n"
     ]
    },
    {
     "name": "stderr",
     "output_type": "stream",
     "text": [
      "*                               NUMERICAL SETUP                                *\n"
     ]
    },
    {
     "name": "stderr",
     "output_type": "stream",
     "text": [
      "*                                                                              *\n"
     ]
    },
    {
     "name": "stderr",
     "output_type": "stream",
     "text": [
      "*    CONSERVATIVES                                                             *\n"
     ]
    },
    {
     "name": "stderr",
     "output_type": "stream",
     "text": [
      "*        HALO CELLS                   :    4                                   *\n"
     ]
    },
    {
     "name": "stderr",
     "output_type": "stream",
     "text": [
      "*        TIME INTEGRATION                                                      *\n"
     ]
    },
    {
     "name": "stderr",
     "output_type": "stream",
     "text": [
      "*          INTEGRATOR                 :    RK3                                 *\n"
     ]
    },
    {
     "name": "stderr",
     "output_type": "stream",
     "text": [
      "*          CFL                        :    0.9                                 *\n"
     ]
    },
    {
     "name": "stderr",
     "output_type": "stream",
     "text": [
      "*        CONVECTIVE FLUXES                                                     *\n"
     ]
    },
    {
     "name": "stderr",
     "output_type": "stream",
     "text": [
      "*          CONVECTIVE SOLVER          :    GODUNOV                             *\n"
     ]
    },
    {
     "name": "stderr",
     "output_type": "stream",
     "text": [
      "*          RIEMANN SOLVER             :    HLLC                                *\n"
     ]
    },
    {
     "name": "stderr",
     "output_type": "stream",
     "text": [
      "*          SIGNAL SPEED               :    EINFELDT                            *\n"
     ]
    },
    {
     "name": "stderr",
     "output_type": "stream",
     "text": [
      "*          SPATIAL RECONSTRUCTOR      :    WENO5-JS                            *\n"
     ]
    },
    {
     "name": "stderr",
     "output_type": "stream",
     "text": [
      "*          IS SAFE RECONSTRUCTION     :    False                               *\n"
     ]
    },
    {
     "name": "stderr",
     "output_type": "stream",
     "text": [
      "*          RECONSTRUCTION VAR         :    CHAR-CONSERVATIVE                   *\n"
     ]
    },
    {
     "name": "stderr",
     "output_type": "stream",
     "text": [
      "*        DISSIPATIVE FLUXES                                                    *\n"
     ]
    },
    {
     "name": "stderr",
     "output_type": "stream",
     "text": [
      "*          RECONSTRUCTION STENCIL     :    R4                                  *\n"
     ]
    },
    {
     "name": "stderr",
     "output_type": "stream",
     "text": [
      "*          DERIVATIVE STENCIL CENTER  :    DC4                                 *\n"
     ]
    },
    {
     "name": "stderr",
     "output_type": "stream",
     "text": [
      "*          DERIVATIVE STENCIL FACE    :    DF4                                 *\n"
     ]
    },
    {
     "name": "stderr",
     "output_type": "stream",
     "text": [
      "*                                                                              *\n"
     ]
    },
    {
     "name": "stderr",
     "output_type": "stream",
     "text": [
      "*    ACTIVE PHYSICS                                                            *\n"
     ]
    },
    {
     "name": "stderr",
     "output_type": "stream",
     "text": [
      "*        IS CONVECTIVE FLUX           :    True                                *\n"
     ]
    },
    {
     "name": "stderr",
     "output_type": "stream",
     "text": [
      "*        IS VISCOUS FLUX              :    False                               *\n"
     ]
    },
    {
     "name": "stderr",
     "output_type": "stream",
     "text": [
      "*        IS HEAT FLUX                 :    False                               *\n"
     ]
    },
    {
     "name": "stderr",
     "output_type": "stream",
     "text": [
      "*        IS VOLUME FORCE              :    False                               *\n"
     ]
    },
    {
     "name": "stderr",
     "output_type": "stream",
     "text": [
      "*                                                                              *\n"
     ]
    },
    {
     "name": "stderr",
     "output_type": "stream",
     "text": [
      "*    ACTIVE FORCINGS                                                           *\n"
     ]
    },
    {
     "name": "stderr",
     "output_type": "stream",
     "text": [
      "*        IS MASS FLOW FORCING         :    False                               *\n"
     ]
    },
    {
     "name": "stderr",
     "output_type": "stream",
     "text": [
      "*        IS TEMPERATURE FORCING       :    False                               *\n"
     ]
    },
    {
     "name": "stderr",
     "output_type": "stream",
     "text": [
      "*        IS TURB HIT FORCING          :    False                               *\n"
     ]
    },
    {
     "name": "stderr",
     "output_type": "stream",
     "text": [
      "*                                                                              *\n"
     ]
    },
    {
     "name": "stderr",
     "output_type": "stream",
     "text": [
      "*    OUTPUT                                                                    *\n"
     ]
    },
    {
     "name": "stderr",
     "output_type": "stream",
     "text": [
      "*        IS DOUBLE PRECISION COMPUTE  :    False                               *\n"
     ]
    },
    {
     "name": "stderr",
     "output_type": "stream",
     "text": [
      "*        IS DOUBLE PRECISION OUTPUT   :    False                               *\n"
     ]
    },
    {
     "name": "stderr",
     "output_type": "stream",
     "text": [
      "*        DERIVATIVE STENCIL           :    DC4                                 *\n"
     ]
    },
    {
     "name": "stderr",
     "output_type": "stream",
     "text": [
      "*        QUANTITIES                                                            *\n"
     ]
    },
    {
     "name": "stderr",
     "output_type": "stream",
     "text": [
      "*          PRIMES                     :    ['density', 'velocityX', 'pressure', 'temperature']*\n"
     ]
    },
    {
     "name": "stderr",
     "output_type": "stream",
     "text": [
      "*        LOGGING                      :    INFO                                *\n"
     ]
    },
    {
     "name": "stderr",
     "output_type": "stream",
     "text": [
      "*        IS XDMF                      :    False                               *\n"
     ]
    },
    {
     "name": "stderr",
     "output_type": "stream",
     "text": [
      "*                                                                              *\n"
     ]
    },
    {
     "name": "stderr",
     "output_type": "stream",
     "text": [
      "*                                                                              *\n"
     ]
    },
    {
     "name": "stderr",
     "output_type": "stream",
     "text": [
      "*------------------------------------------------------------------------------*\n"
     ]
    },
    {
     "name": "stderr",
     "output_type": "stream",
     "text": [
      "*                                                                              *\n"
     ]
    },
    {
     "name": "stderr",
     "output_type": "stream",
     "text": [
      "*                                  CASE SETUP                                  *\n"
     ]
    },
    {
     "name": "stderr",
     "output_type": "stream",
     "text": [
      "*                                                                              *\n"
     ]
    },
    {
     "name": "stderr",
     "output_type": "stream",
     "text": [
      "*    GENERAL                                                                   *\n"
     ]
    },
    {
     "name": "stderr",
     "output_type": "stream",
     "text": [
      "*        CASE NAME                    :    sod                                 *\n"
     ]
    },
    {
     "name": "stderr",
     "output_type": "stream",
     "text": [
      "*        SAVE PATH                    :    ./results                           *\n"
     ]
    },
    {
     "name": "stderr",
     "output_type": "stream",
     "text": [
      "*        END TIME                     :    0.2                                 *\n"
     ]
    },
    {
     "name": "stderr",
     "output_type": "stream",
     "text": [
      "*        SAVE DT                      :    0.01                                *\n"
     ]
    },
    {
     "name": "stderr",
     "output_type": "stream",
     "text": [
      "*                                                                              *\n"
     ]
    },
    {
     "name": "stderr",
     "output_type": "stream",
     "text": [
      "*    DOMAIN                                                                    *\n"
     ]
    },
    {
     "name": "stderr",
     "output_type": "stream",
     "text": [
      "*        X                                                                     *\n"
     ]
    },
    {
     "name": "stderr",
     "output_type": "stream",
     "text": [
      "*          CELLS                      :    100                                 *\n"
     ]
    },
    {
     "name": "stderr",
     "output_type": "stream",
     "text": [
      "*          RANGE                      :    [0.0, 1.0]                          *\n"
     ]
    },
    {
     "name": "stderr",
     "output_type": "stream",
     "text": [
      "*        Y                                                                     *\n"
     ]
    },
    {
     "name": "stderr",
     "output_type": "stream",
     "text": [
      "*          CELLS                      :    1                                   *\n"
     ]
    },
    {
     "name": "stderr",
     "output_type": "stream",
     "text": [
      "*          RANGE                      :    [0.0, 1.0]                          *\n"
     ]
    },
    {
     "name": "stderr",
     "output_type": "stream",
     "text": [
      "*        Z                                                                     *\n"
     ]
    },
    {
     "name": "stderr",
     "output_type": "stream",
     "text": [
      "*          CELLS                      :    1                                   *\n"
     ]
    },
    {
     "name": "stderr",
     "output_type": "stream",
     "text": [
      "*          RANGE                      :    [0.0, 1.0]                          *\n"
     ]
    },
    {
     "name": "stderr",
     "output_type": "stream",
     "text": [
      "*                                                                              *\n"
     ]
    },
    {
     "name": "stderr",
     "output_type": "stream",
     "text": [
      "*    BOUNDARY CONDITION                                                        *\n"
     ]
    },
    {
     "name": "stderr",
     "output_type": "stream",
     "text": [
      "*        TYPES                                                                 *\n"
     ]
    },
    {
     "name": "stderr",
     "output_type": "stream",
     "text": [
      "*          EAST                       :    neumann                             *\n"
     ]
    },
    {
     "name": "stderr",
     "output_type": "stream",
     "text": [
      "*          WEST                       :    neumann                             *\n"
     ]
    },
    {
     "name": "stderr",
     "output_type": "stream",
     "text": [
      "*          NORTH                      :    inactive                            *\n"
     ]
    },
    {
     "name": "stderr",
     "output_type": "stream",
     "text": [
      "*          SOUTH                      :    inactive                            *\n"
     ]
    },
    {
     "name": "stderr",
     "output_type": "stream",
     "text": [
      "*          TOP                        :    inactive                            *\n"
     ]
    },
    {
     "name": "stderr",
     "output_type": "stream",
     "text": [
      "*          BOTTOM                     :    inactive                            *\n"
     ]
    },
    {
     "name": "stderr",
     "output_type": "stream",
     "text": [
      "*                                                                              *\n"
     ]
    },
    {
     "name": "stderr",
     "output_type": "stream",
     "text": [
      "*    INITIAL CONDITION                                                         *\n"
     ]
    },
    {
     "name": "stderr",
     "output_type": "stream",
     "text": [
      "*        RHO                          :    lambda x: 1.0*(x <= 0.5) + 0.125*(x > 0.5)*\n"
     ]
    },
    {
     "name": "stderr",
     "output_type": "stream",
     "text": [
      "*        U                            :    0.0                                 *\n"
     ]
    },
    {
     "name": "stderr",
     "output_type": "stream",
     "text": [
      "*        V                            :    0.0                                 *\n"
     ]
    },
    {
     "name": "stderr",
     "output_type": "stream",
     "text": [
      "*        W                            :    0.0                                 *\n"
     ]
    },
    {
     "name": "stderr",
     "output_type": "stream",
     "text": [
      "*        P                            :    lambda x: 1.0*(x <= 0.5) + 0.1*(x > 0.5)*\n"
     ]
    },
    {
     "name": "stderr",
     "output_type": "stream",
     "text": [
      "*                                                                              *\n"
     ]
    },
    {
     "name": "stderr",
     "output_type": "stream",
     "text": [
      "*    MATERIAL PROPERTIES                                                       *\n"
     ]
    },
    {
     "name": "stderr",
     "output_type": "stream",
     "text": [
      "*        TYPE                         :    IdealGas                            *\n"
     ]
    },
    {
     "name": "stderr",
     "output_type": "stream",
     "text": [
      "*        DYNAMIC VISCOSITY            :    0.0                                 *\n"
     ]
    },
    {
     "name": "stderr",
     "output_type": "stream",
     "text": [
      "*        BULK VISCOSITY               :    0.0                                 *\n"
     ]
    },
    {
     "name": "stderr",
     "output_type": "stream",
     "text": [
      "*        THERMAL CONDUCTIVITY         :    0.0                                 *\n"
     ]
    },
    {
     "name": "stderr",
     "output_type": "stream",
     "text": [
      "*        SPECIFIC HEAT RATIO          :    1.4                                 *\n"
     ]
    },
    {
     "name": "stderr",
     "output_type": "stream",
     "text": [
      "*        SPECIFIC GAS CONSTANT        :    1.0                                 *\n"
     ]
    },
    {
     "name": "stderr",
     "output_type": "stream",
     "text": [
      "*                                                                              *\n"
     ]
    },
    {
     "name": "stderr",
     "output_type": "stream",
     "text": [
      "*    NONDIMENSIONALIZATION PARAMETERS                                          *\n"
     ]
    },
    {
     "name": "stderr",
     "output_type": "stream",
     "text": [
      "*        DENSITY REFERENCE            :    1.0                                 *\n"
     ]
    },
    {
     "name": "stderr",
     "output_type": "stream",
     "text": [
      "*        LENGTH REFERENCE             :    1.0                                 *\n"
     ]
    },
    {
     "name": "stderr",
     "output_type": "stream",
     "text": [
      "*        VELOCITY REFERENCE           :    1.0                                 *\n"
     ]
    },
    {
     "name": "stderr",
     "output_type": "stream",
     "text": [
      "*        TEMPERATURE REFERENCE        :    1.0                                 *\n"
     ]
    },
    {
     "name": "stderr",
     "output_type": "stream",
     "text": [
      "*                                                                              *\n"
     ]
    },
    {
     "name": "stderr",
     "output_type": "stream",
     "text": [
      "*                                                                              *\n"
     ]
    },
    {
     "name": "stderr",
     "output_type": "stream",
     "text": [
      "*------------------------------------------------------------------------------*\n"
     ]
    },
    {
     "name": "stderr",
     "output_type": "stream",
     "text": [
      "*                                                                              *\n"
     ]
    },
    {
     "name": "stderr",
     "output_type": "stream",
     "text": [
      "*                                                                              *\n"
     ]
    },
    {
     "name": "stderr",
     "output_type": "stream",
     "text": [
      "*          _     _    __  __        _____  _      _   _  ___  ____   ____      *\n"
     ]
    },
    {
     "name": "stderr",
     "output_type": "stream",
     "text": [
      "*         | |   / \\   \\ \\/ /       |  ___|| |    | | | ||_ _||  _ \\ / ___|     *\n"
     ]
    },
    {
     "name": "stderr",
     "output_type": "stream",
     "text": [
      "*      _  | |  / _ \\   \\  /  _____ | |_   | |    | | | | | | | | | |\\___ \\     *\n"
     ]
    },
    {
     "name": "stderr",
     "output_type": "stream",
     "text": [
      "*     | |_| | / ___ \\  /  \\ |_____||  _|  | |___ | |_| | | | | |_| | ___) |    *\n"
     ]
    },
    {
     "name": "stderr",
     "output_type": "stream",
     "text": [
      "*      \\___/ /_/   \\_\\/_/\\_\\       |_|    |_____| \\___/ |___||____/ |____/     *\n"
     ]
    },
    {
     "name": "stderr",
     "output_type": "stream",
     "text": [
      "*                                                                              *\n"
     ]
    },
    {
     "name": "stderr",
     "output_type": "stream",
     "text": [
      "*                                                                              *\n"
     ]
    },
    {
     "name": "stderr",
     "output_type": "stream",
     "text": [
      "*------------------------------------------------------------------------------*\n"
     ]
    },
    {
     "name": "stderr",
     "output_type": "stream",
     "text": [
      "*                                                                              *\n"
     ]
    },
    {
     "name": "stderr",
     "output_type": "stream",
     "text": [
      "*    CURRENT TIME                   = 2.5355e-03                               *\n"
     ]
    },
    {
     "name": "stderr",
     "output_type": "stream",
     "text": [
      "*    CURRENT DT                     = 2.5355e-03                               *\n"
     ]
    },
    {
     "name": "stderr",
     "output_type": "stream",
     "text": [
      "*    CURRENT STEP                   =      1                                   *\n"
     ]
    },
    {
     "name": "stderr",
     "output_type": "stream",
     "text": [
      "*    WALL CLOCK TIMESTEP            = 1.4360e+00                               *\n"
     ]
    },
    {
     "name": "stderr",
     "output_type": "stream",
     "text": [
      "*    MEAN WALL CLOCK TIMESTEP       = 1.4360e+00                               *\n"
     ]
    },
    {
     "name": "stderr",
     "output_type": "stream",
     "text": [
      "*    WALL CLOCK TIMESTEP CELL       = 1.4360e-02                               *\n"
     ]
    },
    {
     "name": "stderr",
     "output_type": "stream",
     "text": [
      "*    MEAN WALL CLOCK TIMESTEP CELL  = 1.4360e-02                               *\n"
     ]
    },
    {
     "name": "stderr",
     "output_type": "stream",
     "text": [
      "*                                                                              *\n"
     ]
    },
    {
     "name": "stderr",
     "output_type": "stream",
     "text": [
      "*------------------------------------------------------------------------------*\n"
     ]
    },
    {
     "name": "stderr",
     "output_type": "stream",
     "text": [
      "*                                                                              *\n"
     ]
    },
    {
     "name": "stderr",
     "output_type": "stream",
     "text": [
      "*    CURRENT TIME                   = 4.8562e-03                               *\n"
     ]
    },
    {
     "name": "stderr",
     "output_type": "stream",
     "text": [
      "*    CURRENT DT                     = 2.3207e-03                               *\n"
     ]
    },
    {
     "name": "stderr",
     "output_type": "stream",
     "text": [
      "*    CURRENT STEP                   =      2                                   *\n"
     ]
    },
    {
     "name": "stderr",
     "output_type": "stream",
     "text": [
      "*    WALL CLOCK TIMESTEP            = 1.4477e+00                               *\n"
     ]
    },
    {
     "name": "stderr",
     "output_type": "stream",
     "text": [
      "*    MEAN WALL CLOCK TIMESTEP       = 1.4477e+00                               *\n"
     ]
    },
    {
     "name": "stderr",
     "output_type": "stream",
     "text": [
      "*    WALL CLOCK TIMESTEP CELL       = 1.4477e-02                               *\n"
     ]
    },
    {
     "name": "stderr",
     "output_type": "stream",
     "text": [
      "*    MEAN WALL CLOCK TIMESTEP CELL  = 1.4477e-02                               *\n"
     ]
    },
    {
     "name": "stderr",
     "output_type": "stream",
     "text": [
      "*                                                                              *\n"
     ]
    },
    {
     "name": "stderr",
     "output_type": "stream",
     "text": [
      "*------------------------------------------------------------------------------*\n"
     ]
    },
    {
     "name": "stderr",
     "output_type": "stream",
     "text": [
      "*                                                                              *\n"
     ]
    },
    {
     "name": "stderr",
     "output_type": "stream",
     "text": [
      "*    CURRENT TIME                   = 7.0562e-03                               *\n"
     ]
    },
    {
     "name": "stderr",
     "output_type": "stream",
     "text": [
      "*    CURRENT DT                     = 2.2001e-03                               *\n"
     ]
    },
    {
     "name": "stderr",
     "output_type": "stream",
     "text": [
      "*    CURRENT STEP                   =      3                                   *\n"
     ]
    },
    {
     "name": "stderr",
     "output_type": "stream",
     "text": [
      "*    WALL CLOCK TIMESTEP            = 4.3535e-04                               *\n"
     ]
    },
    {
     "name": "stderr",
     "output_type": "stream",
     "text": [
      "*    MEAN WALL CLOCK TIMESTEP       = 4.3535e-04                               *\n"
     ]
    },
    {
     "name": "stderr",
     "output_type": "stream",
     "text": [
      "*    WALL CLOCK TIMESTEP CELL       = 4.3535e-06                               *\n"
     ]
    },
    {
     "name": "stderr",
     "output_type": "stream",
     "text": [
      "*    MEAN WALL CLOCK TIMESTEP CELL  = 4.3535e-06                               *\n"
     ]
    },
    {
     "name": "stderr",
     "output_type": "stream",
     "text": [
      "*                                                                              *\n"
     ]
    },
    {
     "name": "stderr",
     "output_type": "stream",
     "text": [
      "*------------------------------------------------------------------------------*\n"
     ]
    },
    {
     "name": "stderr",
     "output_type": "stream",
     "text": [
      "*                                                                              *\n"
     ]
    },
    {
     "name": "stderr",
     "output_type": "stream",
     "text": [
      "*    CURRENT TIME                   = 9.2314e-03                               *\n"
     ]
    },
    {
     "name": "stderr",
     "output_type": "stream",
     "text": [
      "*    CURRENT DT                     = 2.1752e-03                               *\n"
     ]
    },
    {
     "name": "stderr",
     "output_type": "stream",
     "text": [
      "*    CURRENT STEP                   =      4                                   *\n"
     ]
    },
    {
     "name": "stderr",
     "output_type": "stream",
     "text": [
      "*    WALL CLOCK TIMESTEP            = 2.1410e-04                               *\n"
     ]
    },
    {
     "name": "stderr",
     "output_type": "stream",
     "text": [
      "*    MEAN WALL CLOCK TIMESTEP       = 2.1410e-04                               *\n"
     ]
    },
    {
     "name": "stderr",
     "output_type": "stream",
     "text": [
      "*    WALL CLOCK TIMESTEP CELL       = 2.1410e-06                               *\n"
     ]
    },
    {
     "name": "stderr",
     "output_type": "stream",
     "text": [
      "*    MEAN WALL CLOCK TIMESTEP CELL  = 2.1410e-06                               *\n"
     ]
    },
    {
     "name": "stderr",
     "output_type": "stream",
     "text": [
      "*                                                                              *\n"
     ]
    },
    {
     "name": "stderr",
     "output_type": "stream",
     "text": [
      "*------------------------------------------------------------------------------*\n"
     ]
    },
    {
     "name": "stderr",
     "output_type": "stream",
     "text": [
      "*                                                                              *\n"
     ]
    },
    {
     "name": "stderr",
     "output_type": "stream",
     "text": [
      "*    CURRENT TIME                   = 1.1371e-02                               *\n"
     ]
    },
    {
     "name": "stderr",
     "output_type": "stream",
     "text": [
      "*    CURRENT DT                     = 2.1392e-03                               *\n"
     ]
    },
    {
     "name": "stderr",
     "output_type": "stream",
     "text": [
      "*    CURRENT STEP                   =      5                                   *\n"
     ]
    },
    {
     "name": "stderr",
     "output_type": "stream",
     "text": [
      "*    WALL CLOCK TIMESTEP            = 5.9309e-03                               *\n"
     ]
    },
    {
     "name": "stderr",
     "output_type": "stream",
     "text": [
      "*    MEAN WALL CLOCK TIMESTEP       = 1.6433e-03                               *\n"
     ]
    },
    {
     "name": "stderr",
     "output_type": "stream",
     "text": [
      "*    WALL CLOCK TIMESTEP CELL       = 5.9309e-05                               *\n"
     ]
    },
    {
     "name": "stderr",
     "output_type": "stream",
     "text": [
      "*    MEAN WALL CLOCK TIMESTEP CELL  = 1.6433e-05                               *\n"
     ]
    },
    {
     "name": "stderr",
     "output_type": "stream",
     "text": [
      "*                                                                              *\n"
     ]
    },
    {
     "name": "stderr",
     "output_type": "stream",
     "text": [
      "*------------------------------------------------------------------------------*\n"
     ]
    },
    {
     "name": "stderr",
     "output_type": "stream",
     "text": [
      "*                                                                              *\n"
     ]
    },
    {
     "name": "stderr",
     "output_type": "stream",
     "text": [
      "*    CURRENT TIME                   = 1.3440e-02                               *\n"
     ]
    },
    {
     "name": "stderr",
     "output_type": "stream",
     "text": [
      "*    CURRENT DT                     = 2.0694e-03                               *\n"
     ]
    },
    {
     "name": "stderr",
     "output_type": "stream",
     "text": [
      "*    CURRENT STEP                   =      6                                   *\n"
     ]
    },
    {
     "name": "stderr",
     "output_type": "stream",
     "text": [
      "*    WALL CLOCK TIMESTEP            = 3.5405e-04                               *\n"
     ]
    },
    {
     "name": "stderr",
     "output_type": "stream",
     "text": [
      "*    MEAN WALL CLOCK TIMESTEP       = 1.3855e-03                               *\n"
     ]
    },
    {
     "name": "stderr",
     "output_type": "stream",
     "text": [
      "*    WALL CLOCK TIMESTEP CELL       = 3.5405e-06                               *\n"
     ]
    },
    {
     "name": "stderr",
     "output_type": "stream",
     "text": [
      "*    MEAN WALL CLOCK TIMESTEP CELL  = 1.3855e-05                               *\n"
     ]
    },
    {
     "name": "stderr",
     "output_type": "stream",
     "text": [
      "*                                                                              *\n"
     ]
    },
    {
     "name": "stderr",
     "output_type": "stream",
     "text": [
      "*------------------------------------------------------------------------------*\n"
     ]
    },
    {
     "name": "stderr",
     "output_type": "stream",
     "text": [
      "*                                                                              *\n"
     ]
    },
    {
     "name": "stderr",
     "output_type": "stream",
     "text": [
      "*    CURRENT TIME                   = 1.5495e-02                               *\n"
     ]
    },
    {
     "name": "stderr",
     "output_type": "stream",
     "text": [
      "*    CURRENT DT                     = 2.0550e-03                               *\n"
     ]
    },
    {
     "name": "stderr",
     "output_type": "stream",
     "text": [
      "*    CURRENT STEP                   =      7                                   *\n"
     ]
    },
    {
     "name": "stderr",
     "output_type": "stream",
     "text": [
      "*    WALL CLOCK TIMESTEP            = 3.8099e-04                               *\n"
     ]
    },
    {
     "name": "stderr",
     "output_type": "stream",
     "text": [
      "*    MEAN WALL CLOCK TIMESTEP       = 1.2180e-03                               *\n"
     ]
    },
    {
     "name": "stderr",
     "output_type": "stream",
     "text": [
      "*    WALL CLOCK TIMESTEP CELL       = 3.8099e-06                               *\n"
     ]
    },
    {
     "name": "stderr",
     "output_type": "stream",
     "text": [
      "*    MEAN WALL CLOCK TIMESTEP CELL  = 1.2180e-05                               *\n"
     ]
    },
    {
     "name": "stderr",
     "output_type": "stream",
     "text": [
      "*                                                                              *\n"
     ]
    },
    {
     "name": "stderr",
     "output_type": "stream",
     "text": [
      "*------------------------------------------------------------------------------*\n"
     ]
    },
    {
     "name": "stderr",
     "output_type": "stream",
     "text": [
      "*                                                                              *\n"
     ]
    },
    {
     "name": "stderr",
     "output_type": "stream",
     "text": [
      "*    CURRENT TIME                   = 1.7565e-02                               *\n"
     ]
    },
    {
     "name": "stderr",
     "output_type": "stream",
     "text": [
      "*    CURRENT DT                     = 2.0695e-03                               *\n"
     ]
    },
    {
     "name": "stderr",
     "output_type": "stream",
     "text": [
      "*    CURRENT STEP                   =      8                                   *\n"
     ]
    },
    {
     "name": "stderr",
     "output_type": "stream",
     "text": [
      "*    WALL CLOCK TIMESTEP            = 3.5810e-04                               *\n"
     ]
    },
    {
     "name": "stderr",
     "output_type": "stream",
     "text": [
      "*    MEAN WALL CLOCK TIMESTEP       = 1.0952e-03                               *\n"
     ]
    },
    {
     "name": "stderr",
     "output_type": "stream",
     "text": [
      "*    WALL CLOCK TIMESTEP CELL       = 3.5810e-06                               *\n"
     ]
    },
    {
     "name": "stderr",
     "output_type": "stream",
     "text": [
      "*    MEAN WALL CLOCK TIMESTEP CELL  = 1.0952e-05                               *\n"
     ]
    },
    {
     "name": "stderr",
     "output_type": "stream",
     "text": [
      "*                                                                              *\n"
     ]
    },
    {
     "name": "stderr",
     "output_type": "stream",
     "text": [
      "*------------------------------------------------------------------------------*\n"
     ]
    },
    {
     "name": "stderr",
     "output_type": "stream",
     "text": [
      "*                                                                              *\n"
     ]
    },
    {
     "name": "stderr",
     "output_type": "stream",
     "text": [
      "*    CURRENT TIME                   = 1.9579e-02                               *\n"
     ]
    },
    {
     "name": "stderr",
     "output_type": "stream",
     "text": [
      "*    CURRENT DT                     = 2.0141e-03                               *\n"
     ]
    },
    {
     "name": "stderr",
     "output_type": "stream",
     "text": [
      "*    CURRENT STEP                   =      9                                   *\n"
     ]
    },
    {
     "name": "stderr",
     "output_type": "stream",
     "text": [
      "*    WALL CLOCK TIMESTEP            = 3.1519e-04                               *\n"
     ]
    },
    {
     "name": "stderr",
     "output_type": "stream",
     "text": [
      "*    MEAN WALL CLOCK TIMESTEP       = 9.9769e-04                               *\n"
     ]
    },
    {
     "name": "stderr",
     "output_type": "stream",
     "text": [
      "*    WALL CLOCK TIMESTEP CELL       = 3.1519e-06                               *\n"
     ]
    },
    {
     "name": "stderr",
     "output_type": "stream",
     "text": [
      "*    MEAN WALL CLOCK TIMESTEP CELL  = 9.9769e-06                               *\n"
     ]
    },
    {
     "name": "stderr",
     "output_type": "stream",
     "text": [
      "*                                                                              *\n"
     ]
    },
    {
     "name": "stderr",
     "output_type": "stream",
     "text": [
      "*------------------------------------------------------------------------------*\n"
     ]
    },
    {
     "name": "stderr",
     "output_type": "stream",
     "text": [
      "*                                                                              *\n"
     ]
    },
    {
     "name": "stderr",
     "output_type": "stream",
     "text": [
      "*    CURRENT TIME                   = 2.1567e-02                               *\n"
     ]
    },
    {
     "name": "stderr",
     "output_type": "stream",
     "text": [
      "*    CURRENT DT                     = 1.9886e-03                               *\n"
     ]
    },
    {
     "name": "stderr",
     "output_type": "stream",
     "text": [
      "*    CURRENT STEP                   =     10                                   *\n"
     ]
    },
    {
     "name": "stderr",
     "output_type": "stream",
     "text": [
      "*    WALL CLOCK TIMESTEP            = 4.9217e-03                               *\n"
     ]
    },
    {
     "name": "stderr",
     "output_type": "stream",
     "text": [
      "*    MEAN WALL CLOCK TIMESTEP       = 1.4337e-03                               *\n"
     ]
    },
    {
     "name": "stderr",
     "output_type": "stream",
     "text": [
      "*    WALL CLOCK TIMESTEP CELL       = 4.9217e-05                               *\n"
     ]
    },
    {
     "name": "stderr",
     "output_type": "stream",
     "text": [
      "*    MEAN WALL CLOCK TIMESTEP CELL  = 1.4337e-05                               *\n"
     ]
    },
    {
     "name": "stderr",
     "output_type": "stream",
     "text": [
      "*                                                                              *\n"
     ]
    },
    {
     "name": "stderr",
     "output_type": "stream",
     "text": [
      "*------------------------------------------------------------------------------*\n"
     ]
    },
    {
     "name": "stderr",
     "output_type": "stream",
     "text": [
      "*                                                                              *\n"
     ]
    },
    {
     "name": "stderr",
     "output_type": "stream",
     "text": [
      "*    CURRENT TIME                   = 2.3562e-02                               *\n"
     ]
    },
    {
     "name": "stderr",
     "output_type": "stream",
     "text": [
      "*    CURRENT DT                     = 1.9943e-03                               *\n"
     ]
    },
    {
     "name": "stderr",
     "output_type": "stream",
     "text": [
      "*    CURRENT STEP                   =     11                                   *\n"
     ]
    },
    {
     "name": "stderr",
     "output_type": "stream",
     "text": [
      "*    WALL CLOCK TIMESTEP            = 3.8671e-04                               *\n"
     ]
    },
    {
     "name": "stderr",
     "output_type": "stream",
     "text": [
      "*    MEAN WALL CLOCK TIMESTEP       = 1.3290e-03                               *\n"
     ]
    },
    {
     "name": "stderr",
     "output_type": "stream",
     "text": [
      "*    WALL CLOCK TIMESTEP CELL       = 3.8671e-06                               *\n"
     ]
    },
    {
     "name": "stderr",
     "output_type": "stream",
     "text": [
      "*    MEAN WALL CLOCK TIMESTEP CELL  = 1.3290e-05                               *\n"
     ]
    },
    {
     "name": "stderr",
     "output_type": "stream",
     "text": [
      "*                                                                              *\n"
     ]
    },
    {
     "name": "stderr",
     "output_type": "stream",
     "text": [
      "*------------------------------------------------------------------------------*\n"
     ]
    },
    {
     "name": "stderr",
     "output_type": "stream",
     "text": [
      "*                                                                              *\n"
     ]
    },
    {
     "name": "stderr",
     "output_type": "stream",
     "text": [
      "*    CURRENT TIME                   = 2.5550e-02                               *\n"
     ]
    },
    {
     "name": "stderr",
     "output_type": "stream",
     "text": [
      "*    CURRENT DT                     = 1.9884e-03                               *\n"
     ]
    },
    {
     "name": "stderr",
     "output_type": "stream",
     "text": [
      "*    CURRENT STEP                   =     12                                   *\n"
     ]
    },
    {
     "name": "stderr",
     "output_type": "stream",
     "text": [
      "*    WALL CLOCK TIMESTEP            = 3.5691e-04                               *\n"
     ]
    },
    {
     "name": "stderr",
     "output_type": "stream",
     "text": [
      "*    MEAN WALL CLOCK TIMESTEP       = 1.2406e-03                               *\n"
     ]
    },
    {
     "name": "stderr",
     "output_type": "stream",
     "text": [
      "*    WALL CLOCK TIMESTEP CELL       = 3.5691e-06                               *\n"
     ]
    },
    {
     "name": "stderr",
     "output_type": "stream",
     "text": [
      "*    MEAN WALL CLOCK TIMESTEP CELL  = 1.2406e-05                               *\n"
     ]
    },
    {
     "name": "stderr",
     "output_type": "stream",
     "text": [
      "*                                                                              *\n"
     ]
    },
    {
     "name": "stderr",
     "output_type": "stream",
     "text": [
      "*------------------------------------------------------------------------------*\n"
     ]
    },
    {
     "name": "stderr",
     "output_type": "stream",
     "text": [
      "*                                                                              *\n"
     ]
    },
    {
     "name": "stderr",
     "output_type": "stream",
     "text": [
      "*    CURRENT TIME                   = 2.7509e-02                               *\n"
     ]
    },
    {
     "name": "stderr",
     "output_type": "stream",
     "text": [
      "*    CURRENT DT                     = 1.9586e-03                               *\n"
     ]
    },
    {
     "name": "stderr",
     "output_type": "stream",
     "text": [
      "*    CURRENT STEP                   =     13                                   *\n"
     ]
    },
    {
     "name": "stderr",
     "output_type": "stream",
     "text": [
      "*    WALL CLOCK TIMESTEP            = 3.2401e-04                               *\n"
     ]
    },
    {
     "name": "stderr",
     "output_type": "stream",
     "text": [
      "*    MEAN WALL CLOCK TIMESTEP       = 1.1642e-03                               *\n"
     ]
    },
    {
     "name": "stderr",
     "output_type": "stream",
     "text": [
      "*    WALL CLOCK TIMESTEP CELL       = 3.2401e-06                               *\n"
     ]
    },
    {
     "name": "stderr",
     "output_type": "stream",
     "text": [
      "*    MEAN WALL CLOCK TIMESTEP CELL  = 1.1642e-05                               *\n"
     ]
    },
    {
     "name": "stderr",
     "output_type": "stream",
     "text": [
      "*                                                                              *\n"
     ]
    },
    {
     "name": "stderr",
     "output_type": "stream",
     "text": [
      "*------------------------------------------------------------------------------*\n"
     ]
    },
    {
     "name": "stderr",
     "output_type": "stream",
     "text": [
      "*                                                                              *\n"
     ]
    },
    {
     "name": "stderr",
     "output_type": "stream",
     "text": [
      "*    CURRENT TIME                   = 2.9463e-02                               *\n"
     ]
    },
    {
     "name": "stderr",
     "output_type": "stream",
     "text": [
      "*    CURRENT DT                     = 1.9547e-03                               *\n"
     ]
    },
    {
     "name": "stderr",
     "output_type": "stream",
     "text": [
      "*    CURRENT STEP                   =     14                                   *\n"
     ]
    },
    {
     "name": "stderr",
     "output_type": "stream",
     "text": [
      "*    WALL CLOCK TIMESTEP            = 3.5405e-04                               *\n"
     ]
    },
    {
     "name": "stderr",
     "output_type": "stream",
     "text": [
      "*    MEAN WALL CLOCK TIMESTEP       = 1.1019e-03                               *\n"
     ]
    },
    {
     "name": "stderr",
     "output_type": "stream",
     "text": [
      "*    WALL CLOCK TIMESTEP CELL       = 3.5405e-06                               *\n"
     ]
    },
    {
     "name": "stderr",
     "output_type": "stream",
     "text": [
      "*    MEAN WALL CLOCK TIMESTEP CELL  = 1.1019e-05                               *\n"
     ]
    },
    {
     "name": "stderr",
     "output_type": "stream",
     "text": [
      "*                                                                              *\n"
     ]
    },
    {
     "name": "stderr",
     "output_type": "stream",
     "text": [
      "*------------------------------------------------------------------------------*\n"
     ]
    },
    {
     "name": "stderr",
     "output_type": "stream",
     "text": [
      "*                                                                              *\n"
     ]
    },
    {
     "name": "stderr",
     "output_type": "stream",
     "text": [
      "*    CURRENT TIME                   = 3.1428e-02                               *\n"
     ]
    },
    {
     "name": "stderr",
     "output_type": "stream",
     "text": [
      "*    CURRENT DT                     = 1.9646e-03                               *\n"
     ]
    },
    {
     "name": "stderr",
     "output_type": "stream",
     "text": [
      "*    CURRENT STEP                   =     15                                   *\n"
     ]
    },
    {
     "name": "stderr",
     "output_type": "stream",
     "text": [
      "*    WALL CLOCK TIMESTEP            = 4.9171e-03                               *\n"
     ]
    },
    {
     "name": "stderr",
     "output_type": "stream",
     "text": [
      "*    MEAN WALL CLOCK TIMESTEP       = 1.3744e-03                               *\n"
     ]
    },
    {
     "name": "stderr",
     "output_type": "stream",
     "text": [
      "*    WALL CLOCK TIMESTEP CELL       = 4.9171e-05                               *\n"
     ]
    },
    {
     "name": "stderr",
     "output_type": "stream",
     "text": [
      "*    MEAN WALL CLOCK TIMESTEP CELL  = 1.3744e-05                               *\n"
     ]
    },
    {
     "name": "stderr",
     "output_type": "stream",
     "text": [
      "*                                                                              *\n"
     ]
    },
    {
     "name": "stderr",
     "output_type": "stream",
     "text": [
      "*------------------------------------------------------------------------------*\n"
     ]
    },
    {
     "name": "stderr",
     "output_type": "stream",
     "text": [
      "*                                                                              *\n"
     ]
    },
    {
     "name": "stderr",
     "output_type": "stream",
     "text": [
      "*    CURRENT TIME                   = 3.3375e-02                               *\n"
     ]
    },
    {
     "name": "stderr",
     "output_type": "stream",
     "text": [
      "*    CURRENT DT                     = 1.9474e-03                               *\n"
     ]
    },
    {
     "name": "stderr",
     "output_type": "stream",
     "text": [
      "*    CURRENT STEP                   =     16                                   *\n"
     ]
    },
    {
     "name": "stderr",
     "output_type": "stream",
     "text": [
      "*    WALL CLOCK TIMESTEP            = 3.9911e-04                               *\n"
     ]
    },
    {
     "name": "stderr",
     "output_type": "stream",
     "text": [
      "*    MEAN WALL CLOCK TIMESTEP       = 1.3094e-03                               *\n"
     ]
    },
    {
     "name": "stderr",
     "output_type": "stream",
     "text": [
      "*    WALL CLOCK TIMESTEP CELL       = 3.9911e-06                               *\n"
     ]
    },
    {
     "name": "stderr",
     "output_type": "stream",
     "text": [
      "*    MEAN WALL CLOCK TIMESTEP CELL  = 1.3094e-05                               *\n"
     ]
    },
    {
     "name": "stderr",
     "output_type": "stream",
     "text": [
      "*                                                                              *\n"
     ]
    },
    {
     "name": "stderr",
     "output_type": "stream",
     "text": [
      "*------------------------------------------------------------------------------*\n"
     ]
    },
    {
     "name": "stderr",
     "output_type": "stream",
     "text": [
      "*                                                                              *\n"
     ]
    },
    {
     "name": "stderr",
     "output_type": "stream",
     "text": [
      "*    CURRENT TIME                   = 3.5313e-02                               *\n"
     ]
    },
    {
     "name": "stderr",
     "output_type": "stream",
     "text": [
      "*    CURRENT DT                     = 1.9377e-03                               *\n"
     ]
    },
    {
     "name": "stderr",
     "output_type": "stream",
     "text": [
      "*    CURRENT STEP                   =     17                                   *\n"
     ]
    },
    {
     "name": "stderr",
     "output_type": "stream",
     "text": [
      "*    WALL CLOCK TIMESTEP            = 3.5906e-04                               *\n"
     ]
    },
    {
     "name": "stderr",
     "output_type": "stream",
     "text": [
      "*    MEAN WALL CLOCK TIMESTEP       = 1.2500e-03                               *\n"
     ]
    },
    {
     "name": "stderr",
     "output_type": "stream",
     "text": [
      "*    WALL CLOCK TIMESTEP CELL       = 3.5906e-06                               *\n"
     ]
    },
    {
     "name": "stderr",
     "output_type": "stream",
     "text": [
      "*    MEAN WALL CLOCK TIMESTEP CELL  = 1.2500e-05                               *\n"
     ]
    },
    {
     "name": "stderr",
     "output_type": "stream",
     "text": [
      "*                                                                              *\n"
     ]
    },
    {
     "name": "stderr",
     "output_type": "stream",
     "text": [
      "*------------------------------------------------------------------------------*\n"
     ]
    },
    {
     "name": "stderr",
     "output_type": "stream",
     "text": [
      "*                                                                              *\n"
     ]
    },
    {
     "name": "stderr",
     "output_type": "stream",
     "text": [
      "*    CURRENT TIME                   = 3.7251e-02                               *\n"
     ]
    },
    {
     "name": "stderr",
     "output_type": "stream",
     "text": [
      "*    CURRENT DT                     = 1.9383e-03                               *\n"
     ]
    },
    {
     "name": "stderr",
     "output_type": "stream",
     "text": [
      "*    CURRENT STEP                   =     18                                   *\n"
     ]
    },
    {
     "name": "stderr",
     "output_type": "stream",
     "text": [
      "*    WALL CLOCK TIMESTEP            = 2.8992e-04                               *\n"
     ]
    },
    {
     "name": "stderr",
     "output_type": "stream",
     "text": [
      "*    MEAN WALL CLOCK TIMESTEP       = 1.1935e-03                               *\n"
     ]
    },
    {
     "name": "stderr",
     "output_type": "stream",
     "text": [
      "*    WALL CLOCK TIMESTEP CELL       = 2.8992e-06                               *\n"
     ]
    },
    {
     "name": "stderr",
     "output_type": "stream",
     "text": [
      "*    MEAN WALL CLOCK TIMESTEP CELL  = 1.1935e-05                               *\n"
     ]
    },
    {
     "name": "stderr",
     "output_type": "stream",
     "text": [
      "*                                                                              *\n"
     ]
    },
    {
     "name": "stderr",
     "output_type": "stream",
     "text": [
      "*------------------------------------------------------------------------------*\n"
     ]
    },
    {
     "name": "stderr",
     "output_type": "stream",
     "text": [
      "*                                                                              *\n"
     ]
    },
    {
     "name": "stderr",
     "output_type": "stream",
     "text": [
      "*    CURRENT TIME                   = 3.9194e-02                               *\n"
     ]
    },
    {
     "name": "stderr",
     "output_type": "stream",
     "text": [
      "*    CURRENT DT                     = 1.9426e-03                               *\n"
     ]
    },
    {
     "name": "stderr",
     "output_type": "stream",
     "text": [
      "*    CURRENT STEP                   =     19                                   *\n"
     ]
    },
    {
     "name": "stderr",
     "output_type": "stream",
     "text": [
      "*    WALL CLOCK TIMESTEP            = 3.0184e-04                               *\n"
     ]
    },
    {
     "name": "stderr",
     "output_type": "stream",
     "text": [
      "*    MEAN WALL CLOCK TIMESTEP       = 1.1440e-03                               *\n"
     ]
    },
    {
     "name": "stderr",
     "output_type": "stream",
     "text": [
      "*    WALL CLOCK TIMESTEP CELL       = 3.0184e-06                               *\n"
     ]
    },
    {
     "name": "stderr",
     "output_type": "stream",
     "text": [
      "*    MEAN WALL CLOCK TIMESTEP CELL  = 1.1440e-05                               *\n"
     ]
    },
    {
     "name": "stderr",
     "output_type": "stream",
     "text": [
      "*                                                                              *\n"
     ]
    },
    {
     "name": "stderr",
     "output_type": "stream",
     "text": [
      "*------------------------------------------------------------------------------*\n"
     ]
    },
    {
     "name": "stderr",
     "output_type": "stream",
     "text": [
      "*                                                                              *\n"
     ]
    },
    {
     "name": "stderr",
     "output_type": "stream",
     "text": [
      "*    CURRENT TIME                   = 4.1125e-02                               *\n"
     ]
    },
    {
     "name": "stderr",
     "output_type": "stream",
     "text": [
      "*    CURRENT DT                     = 1.9313e-03                               *\n"
     ]
    },
    {
     "name": "stderr",
     "output_type": "stream",
     "text": [
      "*    CURRENT STEP                   =     20                                   *\n"
     ]
    },
    {
     "name": "stderr",
     "output_type": "stream",
     "text": [
      "*    WALL CLOCK TIMESTEP            = 4.6420e-03                               *\n"
     ]
    },
    {
     "name": "stderr",
     "output_type": "stream",
     "text": [
      "*    MEAN WALL CLOCK TIMESTEP       = 1.3281e-03                               *\n"
     ]
    },
    {
     "name": "stderr",
     "output_type": "stream",
     "text": [
      "*    WALL CLOCK TIMESTEP CELL       = 4.6420e-05                               *\n"
     ]
    },
    {
     "name": "stderr",
     "output_type": "stream",
     "text": [
      "*    MEAN WALL CLOCK TIMESTEP CELL  = 1.3281e-05                               *\n"
     ]
    },
    {
     "name": "stderr",
     "output_type": "stream",
     "text": [
      "*                                                                              *\n"
     ]
    },
    {
     "name": "stderr",
     "output_type": "stream",
     "text": [
      "*------------------------------------------------------------------------------*\n"
     ]
    },
    {
     "name": "stderr",
     "output_type": "stream",
     "text": [
      "*                                                                              *\n"
     ]
    },
    {
     "name": "stderr",
     "output_type": "stream",
     "text": [
      "*    CURRENT TIME                   = 4.3053e-02                               *\n"
     ]
    },
    {
     "name": "stderr",
     "output_type": "stream",
     "text": [
      "*    CURRENT DT                     = 1.9279e-03                               *\n"
     ]
    },
    {
     "name": "stderr",
     "output_type": "stream",
     "text": [
      "*    CURRENT STEP                   =     21                                   *\n"
     ]
    },
    {
     "name": "stderr",
     "output_type": "stream",
     "text": [
      "*    WALL CLOCK TIMESTEP            = 3.3593e-04                               *\n"
     ]
    },
    {
     "name": "stderr",
     "output_type": "stream",
     "text": [
      "*    MEAN WALL CLOCK TIMESTEP       = 1.2785e-03                               *\n"
     ]
    },
    {
     "name": "stderr",
     "output_type": "stream",
     "text": [
      "*    WALL CLOCK TIMESTEP CELL       = 3.3593e-06                               *\n"
     ]
    },
    {
     "name": "stderr",
     "output_type": "stream",
     "text": [
      "*    MEAN WALL CLOCK TIMESTEP CELL  = 1.2785e-05                               *\n"
     ]
    },
    {
     "name": "stderr",
     "output_type": "stream",
     "text": [
      "*                                                                              *\n"
     ]
    },
    {
     "name": "stderr",
     "output_type": "stream",
     "text": [
      "*------------------------------------------------------------------------------*\n"
     ]
    },
    {
     "name": "stderr",
     "output_type": "stream",
     "text": [
      "*                                                                              *\n"
     ]
    },
    {
     "name": "stderr",
     "output_type": "stream",
     "text": [
      "*    CURRENT TIME                   = 4.4982e-02                               *\n"
     ]
    },
    {
     "name": "stderr",
     "output_type": "stream",
     "text": [
      "*    CURRENT DT                     = 1.9291e-03                               *\n"
     ]
    },
    {
     "name": "stderr",
     "output_type": "stream",
     "text": [
      "*    CURRENT STEP                   =     22                                   *\n"
     ]
    },
    {
     "name": "stderr",
     "output_type": "stream",
     "text": [
      "*    WALL CLOCK TIMESTEP            = 3.4308e-04                               *\n"
     ]
    },
    {
     "name": "stderr",
     "output_type": "stream",
     "text": [
      "*    MEAN WALL CLOCK TIMESTEP       = 1.2340e-03                               *\n"
     ]
    },
    {
     "name": "stderr",
     "output_type": "stream",
     "text": [
      "*    WALL CLOCK TIMESTEP CELL       = 3.4308e-06                               *\n"
     ]
    },
    {
     "name": "stderr",
     "output_type": "stream",
     "text": [
      "*    MEAN WALL CLOCK TIMESTEP CELL  = 1.2340e-05                               *\n"
     ]
    },
    {
     "name": "stderr",
     "output_type": "stream",
     "text": [
      "*                                                                              *\n"
     ]
    },
    {
     "name": "stderr",
     "output_type": "stream",
     "text": [
      "*------------------------------------------------------------------------------*\n"
     ]
    },
    {
     "name": "stderr",
     "output_type": "stream",
     "text": [
      "*                                                                              *\n"
     ]
    },
    {
     "name": "stderr",
     "output_type": "stream",
     "text": [
      "*    CURRENT TIME                   = 4.6909e-02                               *\n"
     ]
    },
    {
     "name": "stderr",
     "output_type": "stream",
     "text": [
      "*    CURRENT DT                     = 1.9274e-03                               *\n"
     ]
    },
    {
     "name": "stderr",
     "output_type": "stream",
     "text": [
      "*    CURRENT STEP                   =     23                                   *\n"
     ]
    },
    {
     "name": "stderr",
     "output_type": "stream",
     "text": [
      "*    WALL CLOCK TIMESTEP            = 2.9683e-04                               *\n"
     ]
    },
    {
     "name": "stderr",
     "output_type": "stream",
     "text": [
      "*    MEAN WALL CLOCK TIMESTEP       = 1.1914e-03                               *\n"
     ]
    },
    {
     "name": "stderr",
     "output_type": "stream",
     "text": [
      "*    WALL CLOCK TIMESTEP CELL       = 2.9683e-06                               *\n"
     ]
    },
    {
     "name": "stderr",
     "output_type": "stream",
     "text": [
      "*    MEAN WALL CLOCK TIMESTEP CELL  = 1.1914e-05                               *\n"
     ]
    },
    {
     "name": "stderr",
     "output_type": "stream",
     "text": [
      "*                                                                              *\n"
     ]
    },
    {
     "name": "stderr",
     "output_type": "stream",
     "text": [
      "*------------------------------------------------------------------------------*\n"
     ]
    },
    {
     "name": "stderr",
     "output_type": "stream",
     "text": [
      "*                                                                              *\n"
     ]
    },
    {
     "name": "stderr",
     "output_type": "stream",
     "text": [
      "*    CURRENT TIME                   = 4.8832e-02                               *\n"
     ]
    },
    {
     "name": "stderr",
     "output_type": "stream",
     "text": [
      "*    CURRENT DT                     = 1.9226e-03                               *\n"
     ]
    },
    {
     "name": "stderr",
     "output_type": "stream",
     "text": [
      "*    CURRENT STEP                   =     24                                   *\n"
     ]
    },
    {
     "name": "stderr",
     "output_type": "stream",
     "text": [
      "*    WALL CLOCK TIMESTEP            = 3.2806e-04                               *\n"
     ]
    },
    {
     "name": "stderr",
     "output_type": "stream",
     "text": [
      "*    MEAN WALL CLOCK TIMESTEP       = 1.1538e-03                               *\n"
     ]
    },
    {
     "name": "stderr",
     "output_type": "stream",
     "text": [
      "*    WALL CLOCK TIMESTEP CELL       = 3.2806e-06                               *\n"
     ]
    },
    {
     "name": "stderr",
     "output_type": "stream",
     "text": [
      "*    MEAN WALL CLOCK TIMESTEP CELL  = 1.1538e-05                               *\n"
     ]
    },
    {
     "name": "stderr",
     "output_type": "stream",
     "text": [
      "*                                                                              *\n"
     ]
    },
    {
     "name": "stderr",
     "output_type": "stream",
     "text": [
      "*------------------------------------------------------------------------------*\n"
     ]
    },
    {
     "name": "stderr",
     "output_type": "stream",
     "text": [
      "*                                                                              *\n"
     ]
    },
    {
     "name": "stderr",
     "output_type": "stream",
     "text": [
      "*    CURRENT TIME                   = 5.0753e-02                               *\n"
     ]
    },
    {
     "name": "stderr",
     "output_type": "stream",
     "text": [
      "*    CURRENT DT                     = 1.9214e-03                               *\n"
     ]
    },
    {
     "name": "stderr",
     "output_type": "stream",
     "text": [
      "*    CURRENT STEP                   =     25                                   *\n"
     ]
    },
    {
     "name": "stderr",
     "output_type": "stream",
     "text": [
      "*    WALL CLOCK TIMESTEP            = 4.6821e-03                               *\n"
     ]
    },
    {
     "name": "stderr",
     "output_type": "stream",
     "text": [
      "*    MEAN WALL CLOCK TIMESTEP       = 1.3008e-03                               *\n"
     ]
    },
    {
     "name": "stderr",
     "output_type": "stream",
     "text": [
      "*    WALL CLOCK TIMESTEP CELL       = 4.6821e-05                               *\n"
     ]
    },
    {
     "name": "stderr",
     "output_type": "stream",
     "text": [
      "*    MEAN WALL CLOCK TIMESTEP CELL  = 1.3008e-05                               *\n"
     ]
    },
    {
     "name": "stderr",
     "output_type": "stream",
     "text": [
      "*                                                                              *\n"
     ]
    },
    {
     "name": "stderr",
     "output_type": "stream",
     "text": [
      "*------------------------------------------------------------------------------*\n"
     ]
    },
    {
     "name": "stderr",
     "output_type": "stream",
     "text": [
      "*                                                                              *\n"
     ]
    },
    {
     "name": "stderr",
     "output_type": "stream",
     "text": [
      "*    CURRENT TIME                   = 5.2676e-02                               *\n"
     ]
    },
    {
     "name": "stderr",
     "output_type": "stream",
     "text": [
      "*    CURRENT DT                     = 1.9229e-03                               *\n"
     ]
    },
    {
     "name": "stderr",
     "output_type": "stream",
     "text": [
      "*    CURRENT STEP                   =     26                                   *\n"
     ]
    },
    {
     "name": "stderr",
     "output_type": "stream",
     "text": [
      "*    WALL CLOCK TIMESTEP            = 3.3903e-04                               *\n"
     ]
    },
    {
     "name": "stderr",
     "output_type": "stream",
     "text": [
      "*    MEAN WALL CLOCK TIMESTEP       = 1.2624e-03                               *\n"
     ]
    },
    {
     "name": "stderr",
     "output_type": "stream",
     "text": [
      "*    WALL CLOCK TIMESTEP CELL       = 3.3903e-06                               *\n"
     ]
    },
    {
     "name": "stderr",
     "output_type": "stream",
     "text": [
      "*    MEAN WALL CLOCK TIMESTEP CELL  = 1.2624e-05                               *\n"
     ]
    },
    {
     "name": "stderr",
     "output_type": "stream",
     "text": [
      "*                                                                              *\n"
     ]
    },
    {
     "name": "stderr",
     "output_type": "stream",
     "text": [
      "*------------------------------------------------------------------------------*\n"
     ]
    },
    {
     "name": "stderr",
     "output_type": "stream",
     "text": [
      "*                                                                              *\n"
     ]
    },
    {
     "name": "stderr",
     "output_type": "stream",
     "text": [
      "*    CURRENT TIME                   = 5.4595e-02                               *\n"
     ]
    },
    {
     "name": "stderr",
     "output_type": "stream",
     "text": [
      "*    CURRENT DT                     = 1.9188e-03                               *\n"
     ]
    },
    {
     "name": "stderr",
     "output_type": "stream",
     "text": [
      "*    CURRENT STEP                   =     27                                   *\n"
     ]
    },
    {
     "name": "stderr",
     "output_type": "stream",
     "text": [
      "*    WALL CLOCK TIMESTEP            = 3.0828e-04                               *\n"
     ]
    },
    {
     "name": "stderr",
     "output_type": "stream",
     "text": [
      "*    MEAN WALL CLOCK TIMESTEP       = 1.2257e-03                               *\n"
     ]
    },
    {
     "name": "stderr",
     "output_type": "stream",
     "text": [
      "*    WALL CLOCK TIMESTEP CELL       = 3.0828e-06                               *\n"
     ]
    },
    {
     "name": "stderr",
     "output_type": "stream",
     "text": [
      "*    MEAN WALL CLOCK TIMESTEP CELL  = 1.2257e-05                               *\n"
     ]
    },
    {
     "name": "stderr",
     "output_type": "stream",
     "text": [
      "*                                                                              *\n"
     ]
    },
    {
     "name": "stderr",
     "output_type": "stream",
     "text": [
      "*------------------------------------------------------------------------------*\n"
     ]
    },
    {
     "name": "stderr",
     "output_type": "stream",
     "text": [
      "*                                                                              *\n"
     ]
    },
    {
     "name": "stderr",
     "output_type": "stream",
     "text": [
      "*    CURRENT TIME                   = 5.6512e-02                               *\n"
     ]
    },
    {
     "name": "stderr",
     "output_type": "stream",
     "text": [
      "*    CURRENT DT                     = 1.9165e-03                               *\n"
     ]
    },
    {
     "name": "stderr",
     "output_type": "stream",
     "text": [
      "*    CURRENT STEP                   =     28                                   *\n"
     ]
    },
    {
     "name": "stderr",
     "output_type": "stream",
     "text": [
      "*    WALL CLOCK TIMESTEP            = 3.0422e-04                               *\n"
     ]
    },
    {
     "name": "stderr",
     "output_type": "stream",
     "text": [
      "*    MEAN WALL CLOCK TIMESTEP       = 1.1915e-03                               *\n"
     ]
    },
    {
     "name": "stderr",
     "output_type": "stream",
     "text": [
      "*    WALL CLOCK TIMESTEP CELL       = 3.0422e-06                               *\n"
     ]
    },
    {
     "name": "stderr",
     "output_type": "stream",
     "text": [
      "*    MEAN WALL CLOCK TIMESTEP CELL  = 1.1915e-05                               *\n"
     ]
    },
    {
     "name": "stderr",
     "output_type": "stream",
     "text": [
      "*                                                                              *\n"
     ]
    },
    {
     "name": "stderr",
     "output_type": "stream",
     "text": [
      "*------------------------------------------------------------------------------*\n"
     ]
    },
    {
     "name": "stderr",
     "output_type": "stream",
     "text": [
      "*                                                                              *\n"
     ]
    },
    {
     "name": "stderr",
     "output_type": "stream",
     "text": [
      "*    CURRENT TIME                   = 5.8428e-02                               *\n"
     ]
    },
    {
     "name": "stderr",
     "output_type": "stream",
     "text": [
      "*    CURRENT DT                     = 1.9163e-03                               *\n"
     ]
    },
    {
     "name": "stderr",
     "output_type": "stream",
     "text": [
      "*    CURRENT STEP                   =     29                                   *\n"
     ]
    },
    {
     "name": "stderr",
     "output_type": "stream",
     "text": [
      "*    WALL CLOCK TIMESTEP            = 2.9993e-04                               *\n"
     ]
    },
    {
     "name": "stderr",
     "output_type": "stream",
     "text": [
      "*    MEAN WALL CLOCK TIMESTEP       = 1.1597e-03                               *\n"
     ]
    },
    {
     "name": "stderr",
     "output_type": "stream",
     "text": [
      "*    WALL CLOCK TIMESTEP CELL       = 2.9993e-06                               *\n"
     ]
    },
    {
     "name": "stderr",
     "output_type": "stream",
     "text": [
      "*    MEAN WALL CLOCK TIMESTEP CELL  = 1.1597e-05                               *\n"
     ]
    },
    {
     "name": "stderr",
     "output_type": "stream",
     "text": [
      "*                                                                              *\n"
     ]
    },
    {
     "name": "stderr",
     "output_type": "stream",
     "text": [
      "*------------------------------------------------------------------------------*\n"
     ]
    },
    {
     "name": "stderr",
     "output_type": "stream",
     "text": [
      "*                                                                              *\n"
     ]
    },
    {
     "name": "stderr",
     "output_type": "stream",
     "text": [
      "*    CURRENT TIME                   = 6.0344e-02                               *\n"
     ]
    },
    {
     "name": "stderr",
     "output_type": "stream",
     "text": [
      "*    CURRENT DT                     = 1.9163e-03                               *\n"
     ]
    },
    {
     "name": "stderr",
     "output_type": "stream",
     "text": [
      "*    CURRENT STEP                   =     30                                   *\n"
     ]
    },
    {
     "name": "stderr",
     "output_type": "stream",
     "text": [
      "*    WALL CLOCK TIMESTEP            = 4.8809e-03                               *\n"
     ]
    },
    {
     "name": "stderr",
     "output_type": "stream",
     "text": [
      "*    MEAN WALL CLOCK TIMESTEP       = 1.2880e-03                               *\n"
     ]
    },
    {
     "name": "stderr",
     "output_type": "stream",
     "text": [
      "*    WALL CLOCK TIMESTEP CELL       = 4.8809e-05                               *\n"
     ]
    },
    {
     "name": "stderr",
     "output_type": "stream",
     "text": [
      "*    MEAN WALL CLOCK TIMESTEP CELL  = 1.2880e-05                               *\n"
     ]
    },
    {
     "name": "stderr",
     "output_type": "stream",
     "text": [
      "*                                                                              *\n"
     ]
    },
    {
     "name": "stderr",
     "output_type": "stream",
     "text": [
      "*------------------------------------------------------------------------------*\n"
     ]
    },
    {
     "name": "stderr",
     "output_type": "stream",
     "text": [
      "*                                                                              *\n"
     ]
    },
    {
     "name": "stderr",
     "output_type": "stream",
     "text": [
      "*    CURRENT TIME                   = 6.2258e-02                               *\n"
     ]
    },
    {
     "name": "stderr",
     "output_type": "stream",
     "text": [
      "*    CURRENT DT                     = 1.9134e-03                               *\n"
     ]
    },
    {
     "name": "stderr",
     "output_type": "stream",
     "text": [
      "*    CURRENT STEP                   =     31                                   *\n"
     ]
    },
    {
     "name": "stderr",
     "output_type": "stream",
     "text": [
      "*    WALL CLOCK TIMESTEP            = 3.0804e-04                               *\n"
     ]
    },
    {
     "name": "stderr",
     "output_type": "stream",
     "text": [
      "*    MEAN WALL CLOCK TIMESTEP       = 1.2553e-03                               *\n"
     ]
    },
    {
     "name": "stderr",
     "output_type": "stream",
     "text": [
      "*    WALL CLOCK TIMESTEP CELL       = 3.0804e-06                               *\n"
     ]
    },
    {
     "name": "stderr",
     "output_type": "stream",
     "text": [
      "*    MEAN WALL CLOCK TIMESTEP CELL  = 1.2553e-05                               *\n"
     ]
    },
    {
     "name": "stderr",
     "output_type": "stream",
     "text": [
      "*                                                                              *\n"
     ]
    },
    {
     "name": "stderr",
     "output_type": "stream",
     "text": [
      "*------------------------------------------------------------------------------*\n"
     ]
    },
    {
     "name": "stderr",
     "output_type": "stream",
     "text": [
      "*                                                                              *\n"
     ]
    },
    {
     "name": "stderr",
     "output_type": "stream",
     "text": [
      "*    CURRENT TIME                   = 6.4170e-02                               *\n"
     ]
    },
    {
     "name": "stderr",
     "output_type": "stream",
     "text": [
      "*    CURRENT DT                     = 1.9122e-03                               *\n"
     ]
    },
    {
     "name": "stderr",
     "output_type": "stream",
     "text": [
      "*    CURRENT STEP                   =     32                                   *\n"
     ]
    },
    {
     "name": "stderr",
     "output_type": "stream",
     "text": [
      "*    WALL CLOCK TIMESTEP            = 3.4022e-04                               *\n"
     ]
    },
    {
     "name": "stderr",
     "output_type": "stream",
     "text": [
      "*    MEAN WALL CLOCK TIMESTEP       = 1.2258e-03                               *\n"
     ]
    },
    {
     "name": "stderr",
     "output_type": "stream",
     "text": [
      "*    WALL CLOCK TIMESTEP CELL       = 3.4022e-06                               *\n"
     ]
    },
    {
     "name": "stderr",
     "output_type": "stream",
     "text": [
      "*    MEAN WALL CLOCK TIMESTEP CELL  = 1.2258e-05                               *\n"
     ]
    },
    {
     "name": "stderr",
     "output_type": "stream",
     "text": [
      "*                                                                              *\n"
     ]
    },
    {
     "name": "stderr",
     "output_type": "stream",
     "text": [
      "*------------------------------------------------------------------------------*\n"
     ]
    },
    {
     "name": "stderr",
     "output_type": "stream",
     "text": [
      "*                                                                              *\n"
     ]
    },
    {
     "name": "stderr",
     "output_type": "stream",
     "text": [
      "*    CURRENT TIME                   = 6.6082e-02                               *\n"
     ]
    },
    {
     "name": "stderr",
     "output_type": "stream",
     "text": [
      "*    CURRENT DT                     = 1.9124e-03                               *\n"
     ]
    },
    {
     "name": "stderr",
     "output_type": "stream",
     "text": [
      "*    CURRENT STEP                   =     33                                   *\n"
     ]
    },
    {
     "name": "stderr",
     "output_type": "stream",
     "text": [
      "*    WALL CLOCK TIMESTEP            = 3.6192e-04                               *\n"
     ]
    },
    {
     "name": "stderr",
     "output_type": "stream",
     "text": [
      "*    MEAN WALL CLOCK TIMESTEP       = 1.1988e-03                               *\n"
     ]
    },
    {
     "name": "stderr",
     "output_type": "stream",
     "text": [
      "*    WALL CLOCK TIMESTEP CELL       = 3.6192e-06                               *\n"
     ]
    },
    {
     "name": "stderr",
     "output_type": "stream",
     "text": [
      "*    MEAN WALL CLOCK TIMESTEP CELL  = 1.1988e-05                               *\n"
     ]
    },
    {
     "name": "stderr",
     "output_type": "stream",
     "text": [
      "*                                                                              *\n"
     ]
    },
    {
     "name": "stderr",
     "output_type": "stream",
     "text": [
      "*------------------------------------------------------------------------------*\n"
     ]
    },
    {
     "name": "stderr",
     "output_type": "stream",
     "text": [
      "*                                                                              *\n"
     ]
    },
    {
     "name": "stderr",
     "output_type": "stream",
     "text": [
      "*    CURRENT TIME                   = 6.7994e-02                               *\n"
     ]
    },
    {
     "name": "stderr",
     "output_type": "stream",
     "text": [
      "*    CURRENT DT                     = 1.9115e-03                               *\n"
     ]
    },
    {
     "name": "stderr",
     "output_type": "stream",
     "text": [
      "*    CURRENT STEP                   =     34                                   *\n"
     ]
    },
    {
     "name": "stderr",
     "output_type": "stream",
     "text": [
      "*    WALL CLOCK TIMESTEP            = 3.3092e-04                               *\n"
     ]
    },
    {
     "name": "stderr",
     "output_type": "stream",
     "text": [
      "*    MEAN WALL CLOCK TIMESTEP       = 1.1725e-03                               *\n"
     ]
    },
    {
     "name": "stderr",
     "output_type": "stream",
     "text": [
      "*    WALL CLOCK TIMESTEP CELL       = 3.3092e-06                               *\n"
     ]
    },
    {
     "name": "stderr",
     "output_type": "stream",
     "text": [
      "*    MEAN WALL CLOCK TIMESTEP CELL  = 1.1725e-05                               *\n"
     ]
    },
    {
     "name": "stderr",
     "output_type": "stream",
     "text": [
      "*                                                                              *\n"
     ]
    },
    {
     "name": "stderr",
     "output_type": "stream",
     "text": [
      "*------------------------------------------------------------------------------*\n"
     ]
    },
    {
     "name": "stderr",
     "output_type": "stream",
     "text": [
      "*                                                                              *\n"
     ]
    },
    {
     "name": "stderr",
     "output_type": "stream",
     "text": [
      "*    CURRENT TIME                   = 6.9904e-02                               *\n"
     ]
    },
    {
     "name": "stderr",
     "output_type": "stream",
     "text": [
      "*    CURRENT DT                     = 1.9098e-03                               *\n"
     ]
    },
    {
     "name": "stderr",
     "output_type": "stream",
     "text": [
      "*    CURRENT STEP                   =     35                                   *\n"
     ]
    },
    {
     "name": "stderr",
     "output_type": "stream",
     "text": [
      "*    WALL CLOCK TIMESTEP            = 3.1400e-04                               *\n"
     ]
    },
    {
     "name": "stderr",
     "output_type": "stream",
     "text": [
      "*    MEAN WALL CLOCK TIMESTEP       = 1.1473e-03                               *\n"
     ]
    },
    {
     "name": "stderr",
     "output_type": "stream",
     "text": [
      "*    WALL CLOCK TIMESTEP CELL       = 3.1400e-06                               *\n"
     ]
    },
    {
     "name": "stderr",
     "output_type": "stream",
     "text": [
      "*    MEAN WALL CLOCK TIMESTEP CELL  = 1.1473e-05                               *\n"
     ]
    },
    {
     "name": "stderr",
     "output_type": "stream",
     "text": [
      "*                                                                              *\n"
     ]
    },
    {
     "name": "stderr",
     "output_type": "stream",
     "text": [
      "*------------------------------------------------------------------------------*\n"
     ]
    },
    {
     "name": "stderr",
     "output_type": "stream",
     "text": [
      "*                                                                              *\n"
     ]
    },
    {
     "name": "stderr",
     "output_type": "stream",
     "text": [
      "*    CURRENT TIME                   = 7.1813e-02                               *\n"
     ]
    },
    {
     "name": "stderr",
     "output_type": "stream",
     "text": [
      "*    CURRENT DT                     = 1.9092e-03                               *\n"
     ]
    },
    {
     "name": "stderr",
     "output_type": "stream",
     "text": [
      "*    CURRENT STEP                   =     36                                   *\n"
     ]
    },
    {
     "name": "stderr",
     "output_type": "stream",
     "text": [
      "*    WALL CLOCK TIMESTEP            = 4.9572e-03                               *\n"
     ]
    },
    {
     "name": "stderr",
     "output_type": "stream",
     "text": [
      "*    MEAN WALL CLOCK TIMESTEP       = 1.2561e-03                               *\n"
     ]
    },
    {
     "name": "stderr",
     "output_type": "stream",
     "text": [
      "*    WALL CLOCK TIMESTEP CELL       = 4.9572e-05                               *\n"
     ]
    },
    {
     "name": "stderr",
     "output_type": "stream",
     "text": [
      "*    MEAN WALL CLOCK TIMESTEP CELL  = 1.2561e-05                               *\n"
     ]
    },
    {
     "name": "stderr",
     "output_type": "stream",
     "text": [
      "*                                                                              *\n"
     ]
    },
    {
     "name": "stderr",
     "output_type": "stream",
     "text": [
      "*------------------------------------------------------------------------------*\n"
     ]
    },
    {
     "name": "stderr",
     "output_type": "stream",
     "text": [
      "*                                                                              *\n"
     ]
    },
    {
     "name": "stderr",
     "output_type": "stream",
     "text": [
      "*    CURRENT TIME                   = 7.3722e-02                               *\n"
     ]
    },
    {
     "name": "stderr",
     "output_type": "stream",
     "text": [
      "*    CURRENT DT                     = 1.9094e-03                               *\n"
     ]
    },
    {
     "name": "stderr",
     "output_type": "stream",
     "text": [
      "*    CURRENT STEP                   =     37                                   *\n"
     ]
    },
    {
     "name": "stderr",
     "output_type": "stream",
     "text": [
      "*    WALL CLOCK TIMESTEP            = 3.0780e-04                               *\n"
     ]
    },
    {
     "name": "stderr",
     "output_type": "stream",
     "text": [
      "*    MEAN WALL CLOCK TIMESTEP       = 1.2298e-03                               *\n"
     ]
    },
    {
     "name": "stderr",
     "output_type": "stream",
     "text": [
      "*    WALL CLOCK TIMESTEP CELL       = 3.0780e-06                               *\n"
     ]
    },
    {
     "name": "stderr",
     "output_type": "stream",
     "text": [
      "*    MEAN WALL CLOCK TIMESTEP CELL  = 1.2298e-05                               *\n"
     ]
    },
    {
     "name": "stderr",
     "output_type": "stream",
     "text": [
      "*                                                                              *\n"
     ]
    },
    {
     "name": "stderr",
     "output_type": "stream",
     "text": [
      "*------------------------------------------------------------------------------*\n"
     ]
    },
    {
     "name": "stderr",
     "output_type": "stream",
     "text": [
      "*                                                                              *\n"
     ]
    },
    {
     "name": "stderr",
     "output_type": "stream",
     "text": [
      "*    CURRENT TIME                   = 7.5631e-02                               *\n"
     ]
    },
    {
     "name": "stderr",
     "output_type": "stream",
     "text": [
      "*    CURRENT DT                     = 1.9085e-03                               *\n"
     ]
    },
    {
     "name": "stderr",
     "output_type": "stream",
     "text": [
      "*    CURRENT STEP                   =     38                                   *\n"
     ]
    },
    {
     "name": "stderr",
     "output_type": "stream",
     "text": [
      "*    WALL CLOCK TIMESTEP            = 2.8324e-04                               *\n"
     ]
    },
    {
     "name": "stderr",
     "output_type": "stream",
     "text": [
      "*    MEAN WALL CLOCK TIMESTEP       = 1.2042e-03                               *\n"
     ]
    },
    {
     "name": "stderr",
     "output_type": "stream",
     "text": [
      "*    WALL CLOCK TIMESTEP CELL       = 2.8324e-06                               *\n"
     ]
    },
    {
     "name": "stderr",
     "output_type": "stream",
     "text": [
      "*    MEAN WALL CLOCK TIMESTEP CELL  = 1.2042e-05                               *\n"
     ]
    },
    {
     "name": "stderr",
     "output_type": "stream",
     "text": [
      "*                                                                              *\n"
     ]
    },
    {
     "name": "stderr",
     "output_type": "stream",
     "text": [
      "*------------------------------------------------------------------------------*\n"
     ]
    },
    {
     "name": "stderr",
     "output_type": "stream",
     "text": [
      "*                                                                              *\n"
     ]
    },
    {
     "name": "stderr",
     "output_type": "stream",
     "text": [
      "*    CURRENT TIME                   = 7.7538e-02                               *\n"
     ]
    },
    {
     "name": "stderr",
     "output_type": "stream",
     "text": [
      "*    CURRENT DT                     = 1.9075e-03                               *\n"
     ]
    },
    {
     "name": "stderr",
     "output_type": "stream",
     "text": [
      "*    CURRENT STEP                   =     39                                   *\n"
     ]
    },
    {
     "name": "stderr",
     "output_type": "stream",
     "text": [
      "*    WALL CLOCK TIMESTEP            = 3.5477e-04                               *\n"
     ]
    },
    {
     "name": "stderr",
     "output_type": "stream",
     "text": [
      "*    MEAN WALL CLOCK TIMESTEP       = 1.1819e-03                               *\n"
     ]
    },
    {
     "name": "stderr",
     "output_type": "stream",
     "text": [
      "*    WALL CLOCK TIMESTEP CELL       = 3.5477e-06                               *\n"
     ]
    },
    {
     "name": "stderr",
     "output_type": "stream",
     "text": [
      "*    MEAN WALL CLOCK TIMESTEP CELL  = 1.1819e-05                               *\n"
     ]
    },
    {
     "name": "stderr",
     "output_type": "stream",
     "text": [
      "*                                                                              *\n"
     ]
    },
    {
     "name": "stderr",
     "output_type": "stream",
     "text": [
      "*------------------------------------------------------------------------------*\n"
     ]
    },
    {
     "name": "stderr",
     "output_type": "stream",
     "text": [
      "*                                                                              *\n"
     ]
    },
    {
     "name": "stderr",
     "output_type": "stream",
     "text": [
      "*    CURRENT TIME                   = 7.9445e-02                               *\n"
     ]
    },
    {
     "name": "stderr",
     "output_type": "stream",
     "text": [
      "*    CURRENT DT                     = 1.9072e-03                               *\n"
     ]
    },
    {
     "name": "stderr",
     "output_type": "stream",
     "text": [
      "*    CURRENT STEP                   =     40                                   *\n"
     ]
    },
    {
     "name": "stderr",
     "output_type": "stream",
     "text": [
      "*    WALL CLOCK TIMESTEP            = 3.4428e-04                               *\n"
     ]
    },
    {
     "name": "stderr",
     "output_type": "stream",
     "text": [
      "*    MEAN WALL CLOCK TIMESTEP       = 1.1604e-03                               *\n"
     ]
    },
    {
     "name": "stderr",
     "output_type": "stream",
     "text": [
      "*    WALL CLOCK TIMESTEP CELL       = 3.4428e-06                               *\n"
     ]
    },
    {
     "name": "stderr",
     "output_type": "stream",
     "text": [
      "*    MEAN WALL CLOCK TIMESTEP CELL  = 1.1604e-05                               *\n"
     ]
    },
    {
     "name": "stderr",
     "output_type": "stream",
     "text": [
      "*                                                                              *\n"
     ]
    },
    {
     "name": "stderr",
     "output_type": "stream",
     "text": [
      "*------------------------------------------------------------------------------*\n"
     ]
    },
    {
     "name": "stderr",
     "output_type": "stream",
     "text": [
      "*                                                                              *\n"
     ]
    },
    {
     "name": "stderr",
     "output_type": "stream",
     "text": [
      "*    CURRENT TIME                   = 8.1353e-02                               *\n"
     ]
    },
    {
     "name": "stderr",
     "output_type": "stream",
     "text": [
      "*    CURRENT DT                     = 1.9074e-03                               *\n"
     ]
    },
    {
     "name": "stderr",
     "output_type": "stream",
     "text": [
      "*    CURRENT STEP                   =     41                                   *\n"
     ]
    },
    {
     "name": "stderr",
     "output_type": "stream",
     "text": [
      "*    WALL CLOCK TIMESTEP            = 4.5531e-03                               *\n"
     ]
    },
    {
     "name": "stderr",
     "output_type": "stream",
     "text": [
      "*    MEAN WALL CLOCK TIMESTEP       = 1.2452e-03                               *\n"
     ]
    },
    {
     "name": "stderr",
     "output_type": "stream",
     "text": [
      "*    WALL CLOCK TIMESTEP CELL       = 4.5531e-05                               *\n"
     ]
    },
    {
     "name": "stderr",
     "output_type": "stream",
     "text": [
      "*    MEAN WALL CLOCK TIMESTEP CELL  = 1.2452e-05                               *\n"
     ]
    },
    {
     "name": "stderr",
     "output_type": "stream",
     "text": [
      "*                                                                              *\n"
     ]
    },
    {
     "name": "stderr",
     "output_type": "stream",
     "text": [
      "*------------------------------------------------------------------------------*\n"
     ]
    },
    {
     "name": "stderr",
     "output_type": "stream",
     "text": [
      "*                                                                              *\n"
     ]
    },
    {
     "name": "stderr",
     "output_type": "stream",
     "text": [
      "*    CURRENT TIME                   = 8.3259e-02                               *\n"
     ]
    },
    {
     "name": "stderr",
     "output_type": "stream",
     "text": [
      "*    CURRENT DT                     = 1.9065e-03                               *\n"
     ]
    },
    {
     "name": "stderr",
     "output_type": "stream",
     "text": [
      "*    CURRENT STEP                   =     42                                   *\n"
     ]
    },
    {
     "name": "stderr",
     "output_type": "stream",
     "text": [
      "*    WALL CLOCK TIMESTEP            = 3.4189e-04                               *\n"
     ]
    },
    {
     "name": "stderr",
     "output_type": "stream",
     "text": [
      "*    MEAN WALL CLOCK TIMESTEP       = 1.2232e-03                               *\n"
     ]
    },
    {
     "name": "stderr",
     "output_type": "stream",
     "text": [
      "*    WALL CLOCK TIMESTEP CELL       = 3.4189e-06                               *\n"
     ]
    },
    {
     "name": "stderr",
     "output_type": "stream",
     "text": [
      "*    MEAN WALL CLOCK TIMESTEP CELL  = 1.2232e-05                               *\n"
     ]
    },
    {
     "name": "stderr",
     "output_type": "stream",
     "text": [
      "*                                                                              *\n"
     ]
    },
    {
     "name": "stderr",
     "output_type": "stream",
     "text": [
      "*------------------------------------------------------------------------------*\n"
     ]
    },
    {
     "name": "stderr",
     "output_type": "stream",
     "text": [
      "*                                                                              *\n"
     ]
    },
    {
     "name": "stderr",
     "output_type": "stream",
     "text": [
      "*    CURRENT TIME                   = 8.5165e-02                               *\n"
     ]
    },
    {
     "name": "stderr",
     "output_type": "stream",
     "text": [
      "*    CURRENT DT                     = 1.9059e-03                               *\n"
     ]
    },
    {
     "name": "stderr",
     "output_type": "stream",
     "text": [
      "*    CURRENT STEP                   =     43                                   *\n"
     ]
    },
    {
     "name": "stderr",
     "output_type": "stream",
     "text": [
      "*    WALL CLOCK TIMESTEP            = 3.6907e-04                               *\n"
     ]
    },
    {
     "name": "stderr",
     "output_type": "stream",
     "text": [
      "*    MEAN WALL CLOCK TIMESTEP       = 1.2028e-03                               *\n"
     ]
    },
    {
     "name": "stderr",
     "output_type": "stream",
     "text": [
      "*    WALL CLOCK TIMESTEP CELL       = 3.6907e-06                               *\n"
     ]
    },
    {
     "name": "stderr",
     "output_type": "stream",
     "text": [
      "*    MEAN WALL CLOCK TIMESTEP CELL  = 1.2028e-05                               *\n"
     ]
    },
    {
     "name": "stderr",
     "output_type": "stream",
     "text": [
      "*                                                                              *\n"
     ]
    },
    {
     "name": "stderr",
     "output_type": "stream",
     "text": [
      "*------------------------------------------------------------------------------*\n"
     ]
    },
    {
     "name": "stderr",
     "output_type": "stream",
     "text": [
      "*                                                                              *\n"
     ]
    },
    {
     "name": "stderr",
     "output_type": "stream",
     "text": [
      "*    CURRENT TIME                   = 8.7071e-02                               *\n"
     ]
    },
    {
     "name": "stderr",
     "output_type": "stream",
     "text": [
      "*    CURRENT DT                     = 1.9058e-03                               *\n"
     ]
    },
    {
     "name": "stderr",
     "output_type": "stream",
     "text": [
      "*    CURRENT STEP                   =     44                                   *\n"
     ]
    },
    {
     "name": "stderr",
     "output_type": "stream",
     "text": [
      "*    WALL CLOCK TIMESTEP            = 3.0804e-04                               *\n"
     ]
    },
    {
     "name": "stderr",
     "output_type": "stream",
     "text": [
      "*    MEAN WALL CLOCK TIMESTEP       = 1.1820e-03                               *\n"
     ]
    },
    {
     "name": "stderr",
     "output_type": "stream",
     "text": [
      "*    WALL CLOCK TIMESTEP CELL       = 3.0804e-06                               *\n"
     ]
    },
    {
     "name": "stderr",
     "output_type": "stream",
     "text": [
      "*    MEAN WALL CLOCK TIMESTEP CELL  = 1.1820e-05                               *\n"
     ]
    },
    {
     "name": "stderr",
     "output_type": "stream",
     "text": [
      "*                                                                              *\n"
     ]
    },
    {
     "name": "stderr",
     "output_type": "stream",
     "text": [
      "*------------------------------------------------------------------------------*\n"
     ]
    },
    {
     "name": "stderr",
     "output_type": "stream",
     "text": [
      "*                                                                              *\n"
     ]
    },
    {
     "name": "stderr",
     "output_type": "stream",
     "text": [
      "*    CURRENT TIME                   = 8.8977e-02                               *\n"
     ]
    },
    {
     "name": "stderr",
     "output_type": "stream",
     "text": [
      "*    CURRENT DT                     = 1.9060e-03                               *\n"
     ]
    },
    {
     "name": "stderr",
     "output_type": "stream",
     "text": [
      "*    CURRENT STEP                   =     45                                   *\n"
     ]
    },
    {
     "name": "stderr",
     "output_type": "stream",
     "text": [
      "*    WALL CLOCK TIMESTEP            = 3.2711e-04                               *\n"
     ]
    },
    {
     "name": "stderr",
     "output_type": "stream",
     "text": [
      "*    MEAN WALL CLOCK TIMESTEP       = 1.1626e-03                               *\n"
     ]
    },
    {
     "name": "stderr",
     "output_type": "stream",
     "text": [
      "*    WALL CLOCK TIMESTEP CELL       = 3.2711e-06                               *\n"
     ]
    },
    {
     "name": "stderr",
     "output_type": "stream",
     "text": [
      "*    MEAN WALL CLOCK TIMESTEP CELL  = 1.1626e-05                               *\n"
     ]
    },
    {
     "name": "stderr",
     "output_type": "stream",
     "text": [
      "*                                                                              *\n"
     ]
    },
    {
     "name": "stderr",
     "output_type": "stream",
     "text": [
      "*------------------------------------------------------------------------------*\n"
     ]
    },
    {
     "name": "stderr",
     "output_type": "stream",
     "text": [
      "*                                                                              *\n"
     ]
    },
    {
     "name": "stderr",
     "output_type": "stream",
     "text": [
      "*    CURRENT TIME                   = 9.0882e-02                               *\n"
     ]
    },
    {
     "name": "stderr",
     "output_type": "stream",
     "text": [
      "*    CURRENT DT                     = 1.9053e-03                               *\n"
     ]
    },
    {
     "name": "stderr",
     "output_type": "stream",
     "text": [
      "*    CURRENT STEP                   =     46                                   *\n"
     ]
    },
    {
     "name": "stderr",
     "output_type": "stream",
     "text": [
      "*    WALL CLOCK TIMESTEP            = 4.8692e-03                               *\n"
     ]
    },
    {
     "name": "stderr",
     "output_type": "stream",
     "text": [
      "*    MEAN WALL CLOCK TIMESTEP       = 1.2450e-03                               *\n"
     ]
    },
    {
     "name": "stderr",
     "output_type": "stream",
     "text": [
      "*    WALL CLOCK TIMESTEP CELL       = 4.8692e-05                               *\n"
     ]
    },
    {
     "name": "stderr",
     "output_type": "stream",
     "text": [
      "*    MEAN WALL CLOCK TIMESTEP CELL  = 1.2450e-05                               *\n"
     ]
    },
    {
     "name": "stderr",
     "output_type": "stream",
     "text": [
      "*                                                                              *\n"
     ]
    },
    {
     "name": "stderr",
     "output_type": "stream",
     "text": [
      "*------------------------------------------------------------------------------*\n"
     ]
    },
    {
     "name": "stderr",
     "output_type": "stream",
     "text": [
      "*                                                                              *\n"
     ]
    },
    {
     "name": "stderr",
     "output_type": "stream",
     "text": [
      "*    CURRENT TIME                   = 9.2787e-02                               *\n"
     ]
    },
    {
     "name": "stderr",
     "output_type": "stream",
     "text": [
      "*    CURRENT DT                     = 1.9050e-03                               *\n"
     ]
    },
    {
     "name": "stderr",
     "output_type": "stream",
     "text": [
      "*    CURRENT STEP                   =     47                                   *\n"
     ]
    },
    {
     "name": "stderr",
     "output_type": "stream",
     "text": [
      "*    WALL CLOCK TIMESTEP            = 3.4714e-04                               *\n"
     ]
    },
    {
     "name": "stderr",
     "output_type": "stream",
     "text": [
      "*    MEAN WALL CLOCK TIMESTEP       = 1.2254e-03                               *\n"
     ]
    },
    {
     "name": "stderr",
     "output_type": "stream",
     "text": [
      "*    WALL CLOCK TIMESTEP CELL       = 3.4714e-06                               *\n"
     ]
    },
    {
     "name": "stderr",
     "output_type": "stream",
     "text": [
      "*    MEAN WALL CLOCK TIMESTEP CELL  = 1.2254e-05                               *\n"
     ]
    },
    {
     "name": "stderr",
     "output_type": "stream",
     "text": [
      "*                                                                              *\n"
     ]
    },
    {
     "name": "stderr",
     "output_type": "stream",
     "text": [
      "*------------------------------------------------------------------------------*\n"
     ]
    },
    {
     "name": "stderr",
     "output_type": "stream",
     "text": [
      "*                                                                              *\n"
     ]
    },
    {
     "name": "stderr",
     "output_type": "stream",
     "text": [
      "*    CURRENT TIME                   = 9.4692e-02                               *\n"
     ]
    },
    {
     "name": "stderr",
     "output_type": "stream",
     "text": [
      "*    CURRENT DT                     = 1.9050e-03                               *\n"
     ]
    },
    {
     "name": "stderr",
     "output_type": "stream",
     "text": [
      "*    CURRENT STEP                   =     48                                   *\n"
     ]
    },
    {
     "name": "stderr",
     "output_type": "stream",
     "text": [
      "*    WALL CLOCK TIMESTEP            = 3.3998e-04                               *\n"
     ]
    },
    {
     "name": "stderr",
     "output_type": "stream",
     "text": [
      "*    MEAN WALL CLOCK TIMESTEP       = 1.2066e-03                               *\n"
     ]
    },
    {
     "name": "stderr",
     "output_type": "stream",
     "text": [
      "*    WALL CLOCK TIMESTEP CELL       = 3.3998e-06                               *\n"
     ]
    },
    {
     "name": "stderr",
     "output_type": "stream",
     "text": [
      "*    MEAN WALL CLOCK TIMESTEP CELL  = 1.2066e-05                               *\n"
     ]
    },
    {
     "name": "stderr",
     "output_type": "stream",
     "text": [
      "*                                                                              *\n"
     ]
    },
    {
     "name": "stderr",
     "output_type": "stream",
     "text": [
      "*------------------------------------------------------------------------------*\n"
     ]
    },
    {
     "name": "stderr",
     "output_type": "stream",
     "text": [
      "*                                                                              *\n"
     ]
    },
    {
     "name": "stderr",
     "output_type": "stream",
     "text": [
      "*    CURRENT TIME                   = 9.6597e-02                               *\n"
     ]
    },
    {
     "name": "stderr",
     "output_type": "stream",
     "text": [
      "*    CURRENT DT                     = 1.9050e-03                               *\n"
     ]
    },
    {
     "name": "stderr",
     "output_type": "stream",
     "text": [
      "*    CURRENT STEP                   =     49                                   *\n"
     ]
    },
    {
     "name": "stderr",
     "output_type": "stream",
     "text": [
      "*    WALL CLOCK TIMESTEP            = 2.7323e-04                               *\n"
     ]
    },
    {
     "name": "stderr",
     "output_type": "stream",
     "text": [
      "*    MEAN WALL CLOCK TIMESTEP       = 1.1872e-03                               *\n"
     ]
    },
    {
     "name": "stderr",
     "output_type": "stream",
     "text": [
      "*    WALL CLOCK TIMESTEP CELL       = 2.7323e-06                               *\n"
     ]
    },
    {
     "name": "stderr",
     "output_type": "stream",
     "text": [
      "*    MEAN WALL CLOCK TIMESTEP CELL  = 1.1872e-05                               *\n"
     ]
    },
    {
     "name": "stderr",
     "output_type": "stream",
     "text": [
      "*                                                                              *\n"
     ]
    },
    {
     "name": "stderr",
     "output_type": "stream",
     "text": [
      "*------------------------------------------------------------------------------*\n"
     ]
    },
    {
     "name": "stderr",
     "output_type": "stream",
     "text": [
      "*                                                                              *\n"
     ]
    },
    {
     "name": "stderr",
     "output_type": "stream",
     "text": [
      "*    CURRENT TIME                   = 9.8502e-02                               *\n"
     ]
    },
    {
     "name": "stderr",
     "output_type": "stream",
     "text": [
      "*    CURRENT DT                     = 1.9046e-03                               *\n"
     ]
    },
    {
     "name": "stderr",
     "output_type": "stream",
     "text": [
      "*    CURRENT STEP                   =     50                                   *\n"
     ]
    },
    {
     "name": "stderr",
     "output_type": "stream",
     "text": [
      "*    WALL CLOCK TIMESTEP            = 2.7490e-04                               *\n"
     ]
    },
    {
     "name": "stderr",
     "output_type": "stream",
     "text": [
      "*    MEAN WALL CLOCK TIMESTEP       = 1.1685e-03                               *\n"
     ]
    },
    {
     "name": "stderr",
     "output_type": "stream",
     "text": [
      "*    WALL CLOCK TIMESTEP CELL       = 2.7490e-06                               *\n"
     ]
    },
    {
     "name": "stderr",
     "output_type": "stream",
     "text": [
      "*    MEAN WALL CLOCK TIMESTEP CELL  = 1.1685e-05                               *\n"
     ]
    },
    {
     "name": "stderr",
     "output_type": "stream",
     "text": [
      "*                                                                              *\n"
     ]
    },
    {
     "name": "stderr",
     "output_type": "stream",
     "text": [
      "*------------------------------------------------------------------------------*\n"
     ]
    },
    {
     "name": "stderr",
     "output_type": "stream",
     "text": [
      "*                                                                              *\n"
     ]
    },
    {
     "name": "stderr",
     "output_type": "stream",
     "text": [
      "*    CURRENT TIME                   = 1.0041e-01                               *\n"
     ]
    },
    {
     "name": "stderr",
     "output_type": "stream",
     "text": [
      "*    CURRENT DT                     = 1.9045e-03                               *\n"
     ]
    },
    {
     "name": "stderr",
     "output_type": "stream",
     "text": [
      "*    CURRENT STEP                   =     51                                   *\n"
     ]
    },
    {
     "name": "stderr",
     "output_type": "stream",
     "text": [
      "*    WALL CLOCK TIMESTEP            = 4.3731e-03                               *\n"
     ]
    },
    {
     "name": "stderr",
     "output_type": "stream",
     "text": [
      "*    MEAN WALL CLOCK TIMESTEP       = 1.2326e-03                               *\n"
     ]
    },
    {
     "name": "stderr",
     "output_type": "stream",
     "text": [
      "*    WALL CLOCK TIMESTEP CELL       = 4.3731e-05                               *\n"
     ]
    },
    {
     "name": "stderr",
     "output_type": "stream",
     "text": [
      "*    MEAN WALL CLOCK TIMESTEP CELL  = 1.2326e-05                               *\n"
     ]
    },
    {
     "name": "stderr",
     "output_type": "stream",
     "text": [
      "*                                                                              *\n"
     ]
    },
    {
     "name": "stderr",
     "output_type": "stream",
     "text": [
      "*------------------------------------------------------------------------------*\n"
     ]
    },
    {
     "name": "stderr",
     "output_type": "stream",
     "text": [
      "*                                                                              *\n"
     ]
    },
    {
     "name": "stderr",
     "output_type": "stream",
     "text": [
      "*    CURRENT TIME                   = 1.0231e-01                               *\n"
     ]
    },
    {
     "name": "stderr",
     "output_type": "stream",
     "text": [
      "*    CURRENT DT                     = 1.9046e-03                               *\n"
     ]
    },
    {
     "name": "stderr",
     "output_type": "stream",
     "text": [
      "*    CURRENT STEP                   =     52                                   *\n"
     ]
    },
    {
     "name": "stderr",
     "output_type": "stream",
     "text": [
      "*    WALL CLOCK TIMESTEP            = 3.6716e-04                               *\n"
     ]
    },
    {
     "name": "stderr",
     "output_type": "stream",
     "text": [
      "*    MEAN WALL CLOCK TIMESTEP       = 1.2157e-03                               *\n"
     ]
    },
    {
     "name": "stderr",
     "output_type": "stream",
     "text": [
      "*    WALL CLOCK TIMESTEP CELL       = 3.6716e-06                               *\n"
     ]
    },
    {
     "name": "stderr",
     "output_type": "stream",
     "text": [
      "*    MEAN WALL CLOCK TIMESTEP CELL  = 1.2157e-05                               *\n"
     ]
    },
    {
     "name": "stderr",
     "output_type": "stream",
     "text": [
      "*                                                                              *\n"
     ]
    },
    {
     "name": "stderr",
     "output_type": "stream",
     "text": [
      "*------------------------------------------------------------------------------*\n"
     ]
    },
    {
     "name": "stderr",
     "output_type": "stream",
     "text": [
      "*                                                                              *\n"
     ]
    },
    {
     "name": "stderr",
     "output_type": "stream",
     "text": [
      "*    CURRENT TIME                   = 1.0422e-01                               *\n"
     ]
    },
    {
     "name": "stderr",
     "output_type": "stream",
     "text": [
      "*    CURRENT DT                     = 1.9045e-03                               *\n"
     ]
    },
    {
     "name": "stderr",
     "output_type": "stream",
     "text": [
      "*    CURRENT STEP                   =     53                                   *\n"
     ]
    },
    {
     "name": "stderr",
     "output_type": "stream",
     "text": [
      "*    WALL CLOCK TIMESTEP            = 3.4714e-04                               *\n"
     ]
    },
    {
     "name": "stderr",
     "output_type": "stream",
     "text": [
      "*    MEAN WALL CLOCK TIMESTEP       = 1.1990e-03                               *\n"
     ]
    },
    {
     "name": "stderr",
     "output_type": "stream",
     "text": [
      "*    WALL CLOCK TIMESTEP CELL       = 3.4714e-06                               *\n"
     ]
    },
    {
     "name": "stderr",
     "output_type": "stream",
     "text": [
      "*    MEAN WALL CLOCK TIMESTEP CELL  = 1.1990e-05                               *\n"
     ]
    },
    {
     "name": "stderr",
     "output_type": "stream",
     "text": [
      "*                                                                              *\n"
     ]
    },
    {
     "name": "stderr",
     "output_type": "stream",
     "text": [
      "*------------------------------------------------------------------------------*\n"
     ]
    },
    {
     "name": "stderr",
     "output_type": "stream",
     "text": [
      "*                                                                              *\n"
     ]
    },
    {
     "name": "stderr",
     "output_type": "stream",
     "text": [
      "*    CURRENT TIME                   = 1.0612e-01                               *\n"
     ]
    },
    {
     "name": "stderr",
     "output_type": "stream",
     "text": [
      "*    CURRENT DT                     = 1.9043e-03                               *\n"
     ]
    },
    {
     "name": "stderr",
     "output_type": "stream",
     "text": [
      "*    CURRENT STEP                   =     54                                   *\n"
     ]
    },
    {
     "name": "stderr",
     "output_type": "stream",
     "text": [
      "*    WALL CLOCK TIMESTEP            = 3.1614e-04                               *\n"
     ]
    },
    {
     "name": "stderr",
     "output_type": "stream",
     "text": [
      "*    MEAN WALL CLOCK TIMESTEP       = 1.1823e-03                               *\n"
     ]
    },
    {
     "name": "stderr",
     "output_type": "stream",
     "text": [
      "*    WALL CLOCK TIMESTEP CELL       = 3.1614e-06                               *\n"
     ]
    },
    {
     "name": "stderr",
     "output_type": "stream",
     "text": [
      "*    MEAN WALL CLOCK TIMESTEP CELL  = 1.1823e-05                               *\n"
     ]
    },
    {
     "name": "stderr",
     "output_type": "stream",
     "text": [
      "*                                                                              *\n"
     ]
    },
    {
     "name": "stderr",
     "output_type": "stream",
     "text": [
      "*------------------------------------------------------------------------------*\n"
     ]
    },
    {
     "name": "stderr",
     "output_type": "stream",
     "text": [
      "*                                                                              *\n"
     ]
    },
    {
     "name": "stderr",
     "output_type": "stream",
     "text": [
      "*    CURRENT TIME                   = 1.0802e-01                               *\n"
     ]
    },
    {
     "name": "stderr",
     "output_type": "stream",
     "text": [
      "*    CURRENT DT                     = 1.9044e-03                               *\n"
     ]
    },
    {
     "name": "stderr",
     "output_type": "stream",
     "text": [
      "*    CURRENT STEP                   =     55                                   *\n"
     ]
    },
    {
     "name": "stderr",
     "output_type": "stream",
     "text": [
      "*    WALL CLOCK TIMESTEP            = 3.2210e-04                               *\n"
     ]
    },
    {
     "name": "stderr",
     "output_type": "stream",
     "text": [
      "*    MEAN WALL CLOCK TIMESTEP       = 1.1664e-03                               *\n"
     ]
    },
    {
     "name": "stderr",
     "output_type": "stream",
     "text": [
      "*    WALL CLOCK TIMESTEP CELL       = 3.2210e-06                               *\n"
     ]
    },
    {
     "name": "stderr",
     "output_type": "stream",
     "text": [
      "*    MEAN WALL CLOCK TIMESTEP CELL  = 1.1664e-05                               *\n"
     ]
    },
    {
     "name": "stderr",
     "output_type": "stream",
     "text": [
      "*                                                                              *\n"
     ]
    },
    {
     "name": "stderr",
     "output_type": "stream",
     "text": [
      "*------------------------------------------------------------------------------*\n"
     ]
    },
    {
     "name": "stderr",
     "output_type": "stream",
     "text": [
      "*                                                                              *\n"
     ]
    },
    {
     "name": "stderr",
     "output_type": "stream",
     "text": [
      "*    CURRENT TIME                   = 1.0993e-01                               *\n"
     ]
    },
    {
     "name": "stderr",
     "output_type": "stream",
     "text": [
      "*    CURRENT DT                     = 1.9044e-03                               *\n"
     ]
    },
    {
     "name": "stderr",
     "output_type": "stream",
     "text": [
      "*    CURRENT STEP                   =     56                                   *\n"
     ]
    },
    {
     "name": "stderr",
     "output_type": "stream",
     "text": [
      "*    WALL CLOCK TIMESTEP            = 2.8992e-04                               *\n"
     ]
    },
    {
     "name": "stderr",
     "output_type": "stream",
     "text": [
      "*    MEAN WALL CLOCK TIMESTEP       = 1.1504e-03                               *\n"
     ]
    },
    {
     "name": "stderr",
     "output_type": "stream",
     "text": [
      "*    WALL CLOCK TIMESTEP CELL       = 2.8992e-06                               *\n"
     ]
    },
    {
     "name": "stderr",
     "output_type": "stream",
     "text": [
      "*    MEAN WALL CLOCK TIMESTEP CELL  = 1.1504e-05                               *\n"
     ]
    },
    {
     "name": "stderr",
     "output_type": "stream",
     "text": [
      "*                                                                              *\n"
     ]
    },
    {
     "name": "stderr",
     "output_type": "stream",
     "text": [
      "*------------------------------------------------------------------------------*\n"
     ]
    },
    {
     "name": "stderr",
     "output_type": "stream",
     "text": [
      "*                                                                              *\n"
     ]
    },
    {
     "name": "stderr",
     "output_type": "stream",
     "text": [
      "*    CURRENT TIME                   = 1.1183e-01                               *\n"
     ]
    },
    {
     "name": "stderr",
     "output_type": "stream",
     "text": [
      "*    CURRENT DT                     = 1.9043e-03                               *\n"
     ]
    },
    {
     "name": "stderr",
     "output_type": "stream",
     "text": [
      "*    CURRENT STEP                   =     57                                   *\n"
     ]
    },
    {
     "name": "stderr",
     "output_type": "stream",
     "text": [
      "*    WALL CLOCK TIMESTEP            = 4.7212e-03                               *\n"
     ]
    },
    {
     "name": "stderr",
     "output_type": "stream",
     "text": [
      "*    MEAN WALL CLOCK TIMESTEP       = 1.2142e-03                               *\n"
     ]
    },
    {
     "name": "stderr",
     "output_type": "stream",
     "text": [
      "*    WALL CLOCK TIMESTEP CELL       = 4.7212e-05                               *\n"
     ]
    },
    {
     "name": "stderr",
     "output_type": "stream",
     "text": [
      "*    MEAN WALL CLOCK TIMESTEP CELL  = 1.2142e-05                               *\n"
     ]
    },
    {
     "name": "stderr",
     "output_type": "stream",
     "text": [
      "*                                                                              *\n"
     ]
    },
    {
     "name": "stderr",
     "output_type": "stream",
     "text": [
      "*------------------------------------------------------------------------------*\n"
     ]
    },
    {
     "name": "stderr",
     "output_type": "stream",
     "text": [
      "*                                                                              *\n"
     ]
    },
    {
     "name": "stderr",
     "output_type": "stream",
     "text": [
      "*    CURRENT TIME                   = 1.1374e-01                               *\n"
     ]
    },
    {
     "name": "stderr",
     "output_type": "stream",
     "text": [
      "*    CURRENT DT                     = 1.9044e-03                               *\n"
     ]
    },
    {
     "name": "stderr",
     "output_type": "stream",
     "text": [
      "*    CURRENT STEP                   =     58                                   *\n"
     ]
    },
    {
     "name": "stderr",
     "output_type": "stream",
     "text": [
      "*    WALL CLOCK TIMESTEP            = 3.5501e-04                               *\n"
     ]
    },
    {
     "name": "stderr",
     "output_type": "stream",
     "text": [
      "*    MEAN WALL CLOCK TIMESTEP       = 1.1991e-03                               *\n"
     ]
    },
    {
     "name": "stderr",
     "output_type": "stream",
     "text": [
      "*    WALL CLOCK TIMESTEP CELL       = 3.5501e-06                               *\n"
     ]
    },
    {
     "name": "stderr",
     "output_type": "stream",
     "text": [
      "*    MEAN WALL CLOCK TIMESTEP CELL  = 1.1991e-05                               *\n"
     ]
    },
    {
     "name": "stderr",
     "output_type": "stream",
     "text": [
      "*                                                                              *\n"
     ]
    },
    {
     "name": "stderr",
     "output_type": "stream",
     "text": [
      "*------------------------------------------------------------------------------*\n"
     ]
    },
    {
     "name": "stderr",
     "output_type": "stream",
     "text": [
      "*                                                                              *\n"
     ]
    },
    {
     "name": "stderr",
     "output_type": "stream",
     "text": [
      "*    CURRENT TIME                   = 1.1564e-01                               *\n"
     ]
    },
    {
     "name": "stderr",
     "output_type": "stream",
     "text": [
      "*    CURRENT DT                     = 1.9045e-03                               *\n"
     ]
    },
    {
     "name": "stderr",
     "output_type": "stream",
     "text": [
      "*    CURRENT STEP                   =     59                                   *\n"
     ]
    },
    {
     "name": "stderr",
     "output_type": "stream",
     "text": [
      "*    WALL CLOCK TIMESTEP            = 3.1590e-04                               *\n"
     ]
    },
    {
     "name": "stderr",
     "output_type": "stream",
     "text": [
      "*    MEAN WALL CLOCK TIMESTEP       = 1.1839e-03                               *\n"
     ]
    },
    {
     "name": "stderr",
     "output_type": "stream",
     "text": [
      "*    WALL CLOCK TIMESTEP CELL       = 3.1590e-06                               *\n"
     ]
    },
    {
     "name": "stderr",
     "output_type": "stream",
     "text": [
      "*    MEAN WALL CLOCK TIMESTEP CELL  = 1.1839e-05                               *\n"
     ]
    },
    {
     "name": "stderr",
     "output_type": "stream",
     "text": [
      "*                                                                              *\n"
     ]
    },
    {
     "name": "stderr",
     "output_type": "stream",
     "text": [
      "*------------------------------------------------------------------------------*\n"
     ]
    },
    {
     "name": "stderr",
     "output_type": "stream",
     "text": [
      "*                                                                              *\n"
     ]
    },
    {
     "name": "stderr",
     "output_type": "stream",
     "text": [
      "*    CURRENT TIME                   = 1.1755e-01                               *\n"
     ]
    },
    {
     "name": "stderr",
     "output_type": "stream",
     "text": [
      "*    CURRENT DT                     = 1.9044e-03                               *\n"
     ]
    },
    {
     "name": "stderr",
     "output_type": "stream",
     "text": [
      "*    CURRENT STEP                   =     60                                   *\n"
     ]
    },
    {
     "name": "stderr",
     "output_type": "stream",
     "text": [
      "*    WALL CLOCK TIMESTEP            = 3.1590e-04                               *\n"
     ]
    },
    {
     "name": "stderr",
     "output_type": "stream",
     "text": [
      "*    MEAN WALL CLOCK TIMESTEP       = 1.1692e-03                               *\n"
     ]
    },
    {
     "name": "stderr",
     "output_type": "stream",
     "text": [
      "*    WALL CLOCK TIMESTEP CELL       = 3.1590e-06                               *\n"
     ]
    },
    {
     "name": "stderr",
     "output_type": "stream",
     "text": [
      "*    MEAN WALL CLOCK TIMESTEP CELL  = 1.1692e-05                               *\n"
     ]
    },
    {
     "name": "stderr",
     "output_type": "stream",
     "text": [
      "*                                                                              *\n"
     ]
    },
    {
     "name": "stderr",
     "output_type": "stream",
     "text": [
      "*------------------------------------------------------------------------------*\n"
     ]
    },
    {
     "name": "stderr",
     "output_type": "stream",
     "text": [
      "*                                                                              *\n"
     ]
    },
    {
     "name": "stderr",
     "output_type": "stream",
     "text": [
      "*    CURRENT TIME                   = 1.1945e-01                               *\n"
     ]
    },
    {
     "name": "stderr",
     "output_type": "stream",
     "text": [
      "*    CURRENT DT                     = 1.9045e-03                               *\n"
     ]
    },
    {
     "name": "stderr",
     "output_type": "stream",
     "text": [
      "*    CURRENT STEP                   =     61                                   *\n"
     ]
    },
    {
     "name": "stderr",
     "output_type": "stream",
     "text": [
      "*    WALL CLOCK TIMESTEP            = 3.1424e-04                               *\n"
     ]
    },
    {
     "name": "stderr",
     "output_type": "stream",
     "text": [
      "*    MEAN WALL CLOCK TIMESTEP       = 1.1549e-03                               *\n"
     ]
    },
    {
     "name": "stderr",
     "output_type": "stream",
     "text": [
      "*    WALL CLOCK TIMESTEP CELL       = 3.1424e-06                               *\n"
     ]
    },
    {
     "name": "stderr",
     "output_type": "stream",
     "text": [
      "*    MEAN WALL CLOCK TIMESTEP CELL  = 1.1549e-05                               *\n"
     ]
    },
    {
     "name": "stderr",
     "output_type": "stream",
     "text": [
      "*                                                                              *\n"
     ]
    },
    {
     "name": "stderr",
     "output_type": "stream",
     "text": [
      "*------------------------------------------------------------------------------*\n"
     ]
    },
    {
     "name": "stderr",
     "output_type": "stream",
     "text": [
      "*                                                                              *\n"
     ]
    },
    {
     "name": "stderr",
     "output_type": "stream",
     "text": [
      "*    CURRENT TIME                   = 1.2136e-01                               *\n"
     ]
    },
    {
     "name": "stderr",
     "output_type": "stream",
     "text": [
      "*    CURRENT DT                     = 1.9046e-03                               *\n"
     ]
    },
    {
     "name": "stderr",
     "output_type": "stream",
     "text": [
      "*    CURRENT STEP                   =     62                                   *\n"
     ]
    },
    {
     "name": "stderr",
     "output_type": "stream",
     "text": [
      "*    WALL CLOCK TIMESTEP            = 4.7388e-03                               *\n"
     ]
    },
    {
     "name": "stderr",
     "output_type": "stream",
     "text": [
      "*    MEAN WALL CLOCK TIMESTEP       = 1.2137e-03                               *\n"
     ]
    },
    {
     "name": "stderr",
     "output_type": "stream",
     "text": [
      "*    WALL CLOCK TIMESTEP CELL       = 4.7388e-05                               *\n"
     ]
    },
    {
     "name": "stderr",
     "output_type": "stream",
     "text": [
      "*    MEAN WALL CLOCK TIMESTEP CELL  = 1.2137e-05                               *\n"
     ]
    },
    {
     "name": "stderr",
     "output_type": "stream",
     "text": [
      "*                                                                              *\n"
     ]
    },
    {
     "name": "stderr",
     "output_type": "stream",
     "text": [
      "*------------------------------------------------------------------------------*\n"
     ]
    },
    {
     "name": "stderr",
     "output_type": "stream",
     "text": [
      "*                                                                              *\n"
     ]
    },
    {
     "name": "stderr",
     "output_type": "stream",
     "text": [
      "*    CURRENT TIME                   = 1.2326e-01                               *\n"
     ]
    },
    {
     "name": "stderr",
     "output_type": "stream",
     "text": [
      "*    CURRENT DT                     = 1.9045e-03                               *\n"
     ]
    },
    {
     "name": "stderr",
     "output_type": "stream",
     "text": [
      "*    CURRENT STEP                   =     63                                   *\n"
     ]
    },
    {
     "name": "stderr",
     "output_type": "stream",
     "text": [
      "*    WALL CLOCK TIMESTEP            = 3.0303e-04                               *\n"
     ]
    },
    {
     "name": "stderr",
     "output_type": "stream",
     "text": [
      "*    MEAN WALL CLOCK TIMESTEP       = 1.1990e-03                               *\n"
     ]
    },
    {
     "name": "stderr",
     "output_type": "stream",
     "text": [
      "*    WALL CLOCK TIMESTEP CELL       = 3.0303e-06                               *\n"
     ]
    },
    {
     "name": "stderr",
     "output_type": "stream",
     "text": [
      "*    MEAN WALL CLOCK TIMESTEP CELL  = 1.1990e-05                               *\n"
     ]
    },
    {
     "name": "stderr",
     "output_type": "stream",
     "text": [
      "*                                                                              *\n"
     ]
    },
    {
     "name": "stderr",
     "output_type": "stream",
     "text": [
      "*------------------------------------------------------------------------------*\n"
     ]
    },
    {
     "name": "stderr",
     "output_type": "stream",
     "text": [
      "*                                                                              *\n"
     ]
    },
    {
     "name": "stderr",
     "output_type": "stream",
     "text": [
      "*    CURRENT TIME                   = 1.2516e-01                               *\n"
     ]
    },
    {
     "name": "stderr",
     "output_type": "stream",
     "text": [
      "*    CURRENT DT                     = 1.9046e-03                               *\n"
     ]
    },
    {
     "name": "stderr",
     "output_type": "stream",
     "text": [
      "*    CURRENT STEP                   =     64                                   *\n"
     ]
    },
    {
     "name": "stderr",
     "output_type": "stream",
     "text": [
      "*    WALL CLOCK TIMESTEP            = 3.2210e-04                               *\n"
     ]
    },
    {
     "name": "stderr",
     "output_type": "stream",
     "text": [
      "*    MEAN WALL CLOCK TIMESTEP       = 1.1851e-03                               *\n"
     ]
    },
    {
     "name": "stderr",
     "output_type": "stream",
     "text": [
      "*    WALL CLOCK TIMESTEP CELL       = 3.2210e-06                               *\n"
     ]
    },
    {
     "name": "stderr",
     "output_type": "stream",
     "text": [
      "*    MEAN WALL CLOCK TIMESTEP CELL  = 1.1851e-05                               *\n"
     ]
    },
    {
     "name": "stderr",
     "output_type": "stream",
     "text": [
      "*                                                                              *\n"
     ]
    },
    {
     "name": "stderr",
     "output_type": "stream",
     "text": [
      "*------------------------------------------------------------------------------*\n"
     ]
    },
    {
     "name": "stderr",
     "output_type": "stream",
     "text": [
      "*                                                                              *\n"
     ]
    },
    {
     "name": "stderr",
     "output_type": "stream",
     "text": [
      "*    CURRENT TIME                   = 1.2707e-01                               *\n"
     ]
    },
    {
     "name": "stderr",
     "output_type": "stream",
     "text": [
      "*    CURRENT DT                     = 1.9047e-03                               *\n"
     ]
    },
    {
     "name": "stderr",
     "output_type": "stream",
     "text": [
      "*    CURRENT STEP                   =     65                                   *\n"
     ]
    },
    {
     "name": "stderr",
     "output_type": "stream",
     "text": [
      "*    WALL CLOCK TIMESTEP            = 2.6393e-04                               *\n"
     ]
    },
    {
     "name": "stderr",
     "output_type": "stream",
     "text": [
      "*    MEAN WALL CLOCK TIMESTEP       = 1.1707e-03                               *\n"
     ]
    },
    {
     "name": "stderr",
     "output_type": "stream",
     "text": [
      "*    WALL CLOCK TIMESTEP CELL       = 2.6393e-06                               *\n"
     ]
    },
    {
     "name": "stderr",
     "output_type": "stream",
     "text": [
      "*    MEAN WALL CLOCK TIMESTEP CELL  = 1.1707e-05                               *\n"
     ]
    },
    {
     "name": "stderr",
     "output_type": "stream",
     "text": [
      "*                                                                              *\n"
     ]
    },
    {
     "name": "stderr",
     "output_type": "stream",
     "text": [
      "*------------------------------------------------------------------------------*\n"
     ]
    },
    {
     "name": "stderr",
     "output_type": "stream",
     "text": [
      "*                                                                              *\n"
     ]
    },
    {
     "name": "stderr",
     "output_type": "stream",
     "text": [
      "*    CURRENT TIME                   = 1.2897e-01                               *\n"
     ]
    },
    {
     "name": "stderr",
     "output_type": "stream",
     "text": [
      "*    CURRENT DT                     = 1.9047e-03                               *\n"
     ]
    },
    {
     "name": "stderr",
     "output_type": "stream",
     "text": [
      "*    CURRENT STEP                   =     66                                   *\n"
     ]
    },
    {
     "name": "stderr",
     "output_type": "stream",
     "text": [
      "*    WALL CLOCK TIMESTEP            = 2.9969e-04                               *\n"
     ]
    },
    {
     "name": "stderr",
     "output_type": "stream",
     "text": [
      "*    MEAN WALL CLOCK TIMESTEP       = 1.1573e-03                               *\n"
     ]
    },
    {
     "name": "stderr",
     "output_type": "stream",
     "text": [
      "*    WALL CLOCK TIMESTEP CELL       = 2.9969e-06                               *\n"
     ]
    },
    {
     "name": "stderr",
     "output_type": "stream",
     "text": [
      "*    MEAN WALL CLOCK TIMESTEP CELL  = 1.1573e-05                               *\n"
     ]
    },
    {
     "name": "stderr",
     "output_type": "stream",
     "text": [
      "*                                                                              *\n"
     ]
    },
    {
     "name": "stderr",
     "output_type": "stream",
     "text": [
      "*------------------------------------------------------------------------------*\n"
     ]
    },
    {
     "name": "stderr",
     "output_type": "stream",
     "text": [
      "*                                                                              *\n"
     ]
    },
    {
     "name": "stderr",
     "output_type": "stream",
     "text": [
      "*    CURRENT TIME                   = 1.3088e-01                               *\n"
     ]
    },
    {
     "name": "stderr",
     "output_type": "stream",
     "text": [
      "*    CURRENT DT                     = 1.9048e-03                               *\n"
     ]
    },
    {
     "name": "stderr",
     "output_type": "stream",
     "text": [
      "*    CURRENT STEP                   =     67                                   *\n"
     ]
    },
    {
     "name": "stderr",
     "output_type": "stream",
     "text": [
      "*    WALL CLOCK TIMESTEP            = 4.5650e-03                               *\n"
     ]
    },
    {
     "name": "stderr",
     "output_type": "stream",
     "text": [
      "*    MEAN WALL CLOCK TIMESTEP       = 1.2089e-03                               *\n"
     ]
    },
    {
     "name": "stderr",
     "output_type": "stream",
     "text": [
      "*    WALL CLOCK TIMESTEP CELL       = 4.5650e-05                               *\n"
     ]
    },
    {
     "name": "stderr",
     "output_type": "stream",
     "text": [
      "*    MEAN WALL CLOCK TIMESTEP CELL  = 1.2089e-05                               *\n"
     ]
    },
    {
     "name": "stderr",
     "output_type": "stream",
     "text": [
      "*                                                                              *\n"
     ]
    },
    {
     "name": "stderr",
     "output_type": "stream",
     "text": [
      "*------------------------------------------------------------------------------*\n"
     ]
    },
    {
     "name": "stderr",
     "output_type": "stream",
     "text": [
      "*                                                                              *\n"
     ]
    },
    {
     "name": "stderr",
     "output_type": "stream",
     "text": [
      "*    CURRENT TIME                   = 1.3278e-01                               *\n"
     ]
    },
    {
     "name": "stderr",
     "output_type": "stream",
     "text": [
      "*    CURRENT DT                     = 1.9049e-03                               *\n"
     ]
    },
    {
     "name": "stderr",
     "output_type": "stream",
     "text": [
      "*    CURRENT STEP                   =     68                                   *\n"
     ]
    },
    {
     "name": "stderr",
     "output_type": "stream",
     "text": [
      "*    WALL CLOCK TIMESTEP            = 3.1686e-04                               *\n"
     ]
    },
    {
     "name": "stderr",
     "output_type": "stream",
     "text": [
      "*    MEAN WALL CLOCK TIMESTEP       = 1.1956e-03                               *\n"
     ]
    },
    {
     "name": "stderr",
     "output_type": "stream",
     "text": [
      "*    WALL CLOCK TIMESTEP CELL       = 3.1686e-06                               *\n"
     ]
    },
    {
     "name": "stderr",
     "output_type": "stream",
     "text": [
      "*    MEAN WALL CLOCK TIMESTEP CELL  = 1.1956e-05                               *\n"
     ]
    },
    {
     "name": "stderr",
     "output_type": "stream",
     "text": [
      "*                                                                              *\n"
     ]
    },
    {
     "name": "stderr",
     "output_type": "stream",
     "text": [
      "*------------------------------------------------------------------------------*\n"
     ]
    },
    {
     "name": "stderr",
     "output_type": "stream",
     "text": [
      "*                                                                              *\n"
     ]
    },
    {
     "name": "stderr",
     "output_type": "stream",
     "text": [
      "*    CURRENT TIME                   = 1.3469e-01                               *\n"
     ]
    },
    {
     "name": "stderr",
     "output_type": "stream",
     "text": [
      "*    CURRENT DT                     = 1.9049e-03                               *\n"
     ]
    },
    {
     "name": "stderr",
     "output_type": "stream",
     "text": [
      "*    CURRENT STEP                   =     69                                   *\n"
     ]
    },
    {
     "name": "stderr",
     "output_type": "stream",
     "text": [
      "*    WALL CLOCK TIMESTEP            = 3.3402e-04                               *\n"
     ]
    },
    {
     "name": "stderr",
     "output_type": "stream",
     "text": [
      "*    MEAN WALL CLOCK TIMESTEP       = 1.1829e-03                               *\n"
     ]
    },
    {
     "name": "stderr",
     "output_type": "stream",
     "text": [
      "*    WALL CLOCK TIMESTEP CELL       = 3.3402e-06                               *\n"
     ]
    },
    {
     "name": "stderr",
     "output_type": "stream",
     "text": [
      "*    MEAN WALL CLOCK TIMESTEP CELL  = 1.1829e-05                               *\n"
     ]
    },
    {
     "name": "stderr",
     "output_type": "stream",
     "text": [
      "*                                                                              *\n"
     ]
    },
    {
     "name": "stderr",
     "output_type": "stream",
     "text": [
      "*------------------------------------------------------------------------------*\n"
     ]
    },
    {
     "name": "stderr",
     "output_type": "stream",
     "text": [
      "*                                                                              *\n"
     ]
    },
    {
     "name": "stderr",
     "output_type": "stream",
     "text": [
      "*    CURRENT TIME                   = 1.3659e-01                               *\n"
     ]
    },
    {
     "name": "stderr",
     "output_type": "stream",
     "text": [
      "*    CURRENT DT                     = 1.9051e-03                               *\n"
     ]
    },
    {
     "name": "stderr",
     "output_type": "stream",
     "text": [
      "*    CURRENT STEP                   =     70                                   *\n"
     ]
    },
    {
     "name": "stderr",
     "output_type": "stream",
     "text": [
      "*    WALL CLOCK TIMESTEP            = 3.2091e-04                               *\n"
     ]
    },
    {
     "name": "stderr",
     "output_type": "stream",
     "text": [
      "*    MEAN WALL CLOCK TIMESTEP       = 1.1704e-03                               *\n"
     ]
    },
    {
     "name": "stderr",
     "output_type": "stream",
     "text": [
      "*    WALL CLOCK TIMESTEP CELL       = 3.2091e-06                               *\n"
     ]
    },
    {
     "name": "stderr",
     "output_type": "stream",
     "text": [
      "*    MEAN WALL CLOCK TIMESTEP CELL  = 1.1704e-05                               *\n"
     ]
    },
    {
     "name": "stderr",
     "output_type": "stream",
     "text": [
      "*                                                                              *\n"
     ]
    },
    {
     "name": "stderr",
     "output_type": "stream",
     "text": [
      "*------------------------------------------------------------------------------*\n"
     ]
    },
    {
     "name": "stderr",
     "output_type": "stream",
     "text": [
      "*                                                                              *\n"
     ]
    },
    {
     "name": "stderr",
     "output_type": "stream",
     "text": [
      "*    CURRENT TIME                   = 1.3850e-01                               *\n"
     ]
    },
    {
     "name": "stderr",
     "output_type": "stream",
     "text": [
      "*    CURRENT DT                     = 1.9051e-03                               *\n"
     ]
    },
    {
     "name": "stderr",
     "output_type": "stream",
     "text": [
      "*    CURRENT STEP                   =     71                                   *\n"
     ]
    },
    {
     "name": "stderr",
     "output_type": "stream",
     "text": [
      "*    WALL CLOCK TIMESTEP            = 3.1519e-04                               *\n"
     ]
    },
    {
     "name": "stderr",
     "output_type": "stream",
     "text": [
      "*    MEAN WALL CLOCK TIMESTEP       = 1.1582e-03                               *\n"
     ]
    },
    {
     "name": "stderr",
     "output_type": "stream",
     "text": [
      "*    WALL CLOCK TIMESTEP CELL       = 3.1519e-06                               *\n"
     ]
    },
    {
     "name": "stderr",
     "output_type": "stream",
     "text": [
      "*    MEAN WALL CLOCK TIMESTEP CELL  = 1.1582e-05                               *\n"
     ]
    },
    {
     "name": "stderr",
     "output_type": "stream",
     "text": [
      "*                                                                              *\n"
     ]
    },
    {
     "name": "stderr",
     "output_type": "stream",
     "text": [
      "*------------------------------------------------------------------------------*\n"
     ]
    },
    {
     "name": "stderr",
     "output_type": "stream",
     "text": [
      "*                                                                              *\n"
     ]
    },
    {
     "name": "stderr",
     "output_type": "stream",
     "text": [
      "*    CURRENT TIME                   = 1.4040e-01                               *\n"
     ]
    },
    {
     "name": "stderr",
     "output_type": "stream",
     "text": [
      "*    CURRENT DT                     = 1.9051e-03                               *\n"
     ]
    },
    {
     "name": "stderr",
     "output_type": "stream",
     "text": [
      "*    CURRENT STEP                   =     72                                   *\n"
     ]
    },
    {
     "name": "stderr",
     "output_type": "stream",
     "text": [
      "*    WALL CLOCK TIMESTEP            = 4.5319e-03                               *\n"
     ]
    },
    {
     "name": "stderr",
     "output_type": "stream",
     "text": [
      "*    MEAN WALL CLOCK TIMESTEP       = 1.2057e-03                               *\n"
     ]
    },
    {
     "name": "stderr",
     "output_type": "stream",
     "text": [
      "*    WALL CLOCK TIMESTEP CELL       = 4.5319e-05                               *\n"
     ]
    },
    {
     "name": "stderr",
     "output_type": "stream",
     "text": [
      "*    MEAN WALL CLOCK TIMESTEP CELL  = 1.2057e-05                               *\n"
     ]
    },
    {
     "name": "stderr",
     "output_type": "stream",
     "text": [
      "*                                                                              *\n"
     ]
    },
    {
     "name": "stderr",
     "output_type": "stream",
     "text": [
      "*------------------------------------------------------------------------------*\n"
     ]
    },
    {
     "name": "stderr",
     "output_type": "stream",
     "text": [
      "*                                                                              *\n"
     ]
    },
    {
     "name": "stderr",
     "output_type": "stream",
     "text": [
      "*    CURRENT TIME                   = 1.4231e-01                               *\n"
     ]
    },
    {
     "name": "stderr",
     "output_type": "stream",
     "text": [
      "*    CURRENT DT                     = 1.9053e-03                               *\n"
     ]
    },
    {
     "name": "stderr",
     "output_type": "stream",
     "text": [
      "*    CURRENT STEP                   =     73                                   *\n"
     ]
    },
    {
     "name": "stderr",
     "output_type": "stream",
     "text": [
      "*    WALL CLOCK TIMESTEP            = 4.1866e-04                               *\n"
     ]
    },
    {
     "name": "stderr",
     "output_type": "stream",
     "text": [
      "*    MEAN WALL CLOCK TIMESTEP       = 1.1948e-03                               *\n"
     ]
    },
    {
     "name": "stderr",
     "output_type": "stream",
     "text": [
      "*    WALL CLOCK TIMESTEP CELL       = 4.1866e-06                               *\n"
     ]
    },
    {
     "name": "stderr",
     "output_type": "stream",
     "text": [
      "*    MEAN WALL CLOCK TIMESTEP CELL  = 1.1948e-05                               *\n"
     ]
    },
    {
     "name": "stderr",
     "output_type": "stream",
     "text": [
      "*                                                                              *\n"
     ]
    },
    {
     "name": "stderr",
     "output_type": "stream",
     "text": [
      "*------------------------------------------------------------------------------*\n"
     ]
    },
    {
     "name": "stderr",
     "output_type": "stream",
     "text": [
      "*                                                                              *\n"
     ]
    },
    {
     "name": "stderr",
     "output_type": "stream",
     "text": [
      "*    CURRENT TIME                   = 1.4421e-01                               *\n"
     ]
    },
    {
     "name": "stderr",
     "output_type": "stream",
     "text": [
      "*    CURRENT DT                     = 1.9052e-03                               *\n"
     ]
    },
    {
     "name": "stderr",
     "output_type": "stream",
     "text": [
      "*    CURRENT STEP                   =     74                                   *\n"
     ]
    },
    {
     "name": "stderr",
     "output_type": "stream",
     "text": [
      "*    WALL CLOCK TIMESTEP            = 4.3488e-04                               *\n"
     ]
    },
    {
     "name": "stderr",
     "output_type": "stream",
     "text": [
      "*    MEAN WALL CLOCK TIMESTEP       = 1.1844e-03                               *\n"
     ]
    },
    {
     "name": "stderr",
     "output_type": "stream",
     "text": [
      "*    WALL CLOCK TIMESTEP CELL       = 4.3488e-06                               *\n"
     ]
    },
    {
     "name": "stderr",
     "output_type": "stream",
     "text": [
      "*    MEAN WALL CLOCK TIMESTEP CELL  = 1.1844e-05                               *\n"
     ]
    },
    {
     "name": "stderr",
     "output_type": "stream",
     "text": [
      "*                                                                              *\n"
     ]
    },
    {
     "name": "stderr",
     "output_type": "stream",
     "text": [
      "*------------------------------------------------------------------------------*\n"
     ]
    },
    {
     "name": "stderr",
     "output_type": "stream",
     "text": [
      "*                                                                              *\n"
     ]
    },
    {
     "name": "stderr",
     "output_type": "stream",
     "text": [
      "*    CURRENT TIME                   = 1.4612e-01                               *\n"
     ]
    },
    {
     "name": "stderr",
     "output_type": "stream",
     "text": [
      "*    CURRENT DT                     = 1.9053e-03                               *\n"
     ]
    },
    {
     "name": "stderr",
     "output_type": "stream",
     "text": [
      "*    CURRENT STEP                   =     75                                   *\n"
     ]
    },
    {
     "name": "stderr",
     "output_type": "stream",
     "text": [
      "*    WALL CLOCK TIMESTEP            = 4.2391e-04                               *\n"
     ]
    },
    {
     "name": "stderr",
     "output_type": "stream",
     "text": [
      "*    MEAN WALL CLOCK TIMESTEP       = 1.1741e-03                               *\n"
     ]
    },
    {
     "name": "stderr",
     "output_type": "stream",
     "text": [
      "*    WALL CLOCK TIMESTEP CELL       = 4.2391e-06                               *\n"
     ]
    },
    {
     "name": "stderr",
     "output_type": "stream",
     "text": [
      "*    MEAN WALL CLOCK TIMESTEP CELL  = 1.1741e-05                               *\n"
     ]
    },
    {
     "name": "stderr",
     "output_type": "stream",
     "text": [
      "*                                                                              *\n"
     ]
    },
    {
     "name": "stderr",
     "output_type": "stream",
     "text": [
      "*------------------------------------------------------------------------------*\n"
     ]
    },
    {
     "name": "stderr",
     "output_type": "stream",
     "text": [
      "*                                                                              *\n"
     ]
    },
    {
     "name": "stderr",
     "output_type": "stream",
     "text": [
      "*    CURRENT TIME                   = 1.4803e-01                               *\n"
     ]
    },
    {
     "name": "stderr",
     "output_type": "stream",
     "text": [
      "*    CURRENT DT                     = 1.9055e-03                               *\n"
     ]
    },
    {
     "name": "stderr",
     "output_type": "stream",
     "text": [
      "*    CURRENT STEP                   =     76                                   *\n"
     ]
    },
    {
     "name": "stderr",
     "output_type": "stream",
     "text": [
      "*    WALL CLOCK TIMESTEP            = 4.9496e-04                               *\n"
     ]
    },
    {
     "name": "stderr",
     "output_type": "stream",
     "text": [
      "*    MEAN WALL CLOCK TIMESTEP       = 1.1651e-03                               *\n"
     ]
    },
    {
     "name": "stderr",
     "output_type": "stream",
     "text": [
      "*    WALL CLOCK TIMESTEP CELL       = 4.9496e-06                               *\n"
     ]
    },
    {
     "name": "stderr",
     "output_type": "stream",
     "text": [
      "*    MEAN WALL CLOCK TIMESTEP CELL  = 1.1651e-05                               *\n"
     ]
    },
    {
     "name": "stderr",
     "output_type": "stream",
     "text": [
      "*                                                                              *\n"
     ]
    },
    {
     "name": "stderr",
     "output_type": "stream",
     "text": [
      "*------------------------------------------------------------------------------*\n"
     ]
    },
    {
     "name": "stderr",
     "output_type": "stream",
     "text": [
      "*                                                                              *\n"
     ]
    },
    {
     "name": "stderr",
     "output_type": "stream",
     "text": [
      "*    CURRENT TIME                   = 1.4993e-01                               *\n"
     ]
    },
    {
     "name": "stderr",
     "output_type": "stream",
     "text": [
      "*    CURRENT DT                     = 1.9054e-03                               *\n"
     ]
    },
    {
     "name": "stderr",
     "output_type": "stream",
     "text": [
      "*    CURRENT STEP                   =     77                                   *\n"
     ]
    },
    {
     "name": "stderr",
     "output_type": "stream",
     "text": [
      "*    WALL CLOCK TIMESTEP            = 4.5109e-04                               *\n"
     ]
    },
    {
     "name": "stderr",
     "output_type": "stream",
     "text": [
      "*    MEAN WALL CLOCK TIMESTEP       = 1.1557e-03                               *\n"
     ]
    },
    {
     "name": "stderr",
     "output_type": "stream",
     "text": [
      "*    WALL CLOCK TIMESTEP CELL       = 4.5109e-06                               *\n"
     ]
    },
    {
     "name": "stderr",
     "output_type": "stream",
     "text": [
      "*    MEAN WALL CLOCK TIMESTEP CELL  = 1.1557e-05                               *\n"
     ]
    },
    {
     "name": "stderr",
     "output_type": "stream",
     "text": [
      "*                                                                              *\n"
     ]
    },
    {
     "name": "stderr",
     "output_type": "stream",
     "text": [
      "*------------------------------------------------------------------------------*\n"
     ]
    },
    {
     "name": "stderr",
     "output_type": "stream",
     "text": [
      "*                                                                              *\n"
     ]
    },
    {
     "name": "stderr",
     "output_type": "stream",
     "text": [
      "*    CURRENT TIME                   = 1.5184e-01                               *\n"
     ]
    },
    {
     "name": "stderr",
     "output_type": "stream",
     "text": [
      "*    CURRENT DT                     = 1.9055e-03                               *\n"
     ]
    },
    {
     "name": "stderr",
     "output_type": "stream",
     "text": [
      "*    CURRENT STEP                   =     78                                   *\n"
     ]
    },
    {
     "name": "stderr",
     "output_type": "stream",
     "text": [
      "*    WALL CLOCK TIMESTEP            = 7.1151e-03                               *\n"
     ]
    },
    {
     "name": "stderr",
     "output_type": "stream",
     "text": [
      "*    MEAN WALL CLOCK TIMESTEP       = 1.2331e-03                               *\n"
     ]
    },
    {
     "name": "stderr",
     "output_type": "stream",
     "text": [
      "*    WALL CLOCK TIMESTEP CELL       = 7.1151e-05                               *\n"
     ]
    },
    {
     "name": "stderr",
     "output_type": "stream",
     "text": [
      "*    MEAN WALL CLOCK TIMESTEP CELL  = 1.2331e-05                               *\n"
     ]
    },
    {
     "name": "stderr",
     "output_type": "stream",
     "text": [
      "*                                                                              *\n"
     ]
    },
    {
     "name": "stderr",
     "output_type": "stream",
     "text": [
      "*------------------------------------------------------------------------------*\n"
     ]
    },
    {
     "name": "stderr",
     "output_type": "stream",
     "text": [
      "*                                                                              *\n"
     ]
    },
    {
     "name": "stderr",
     "output_type": "stream",
     "text": [
      "*    CURRENT TIME                   = 1.5374e-01                               *\n"
     ]
    },
    {
     "name": "stderr",
     "output_type": "stream",
     "text": [
      "*    CURRENT DT                     = 1.9056e-03                               *\n"
     ]
    },
    {
     "name": "stderr",
     "output_type": "stream",
     "text": [
      "*    CURRENT STEP                   =     79                                   *\n"
     ]
    },
    {
     "name": "stderr",
     "output_type": "stream",
     "text": [
      "*    WALL CLOCK TIMESTEP            = 6.2108e-04                               *\n"
     ]
    },
    {
     "name": "stderr",
     "output_type": "stream",
     "text": [
      "*    MEAN WALL CLOCK TIMESTEP       = 1.2252e-03                               *\n"
     ]
    },
    {
     "name": "stderr",
     "output_type": "stream",
     "text": [
      "*    WALL CLOCK TIMESTEP CELL       = 6.2108e-06                               *\n"
     ]
    },
    {
     "name": "stderr",
     "output_type": "stream",
     "text": [
      "*    MEAN WALL CLOCK TIMESTEP CELL  = 1.2252e-05                               *\n"
     ]
    },
    {
     "name": "stderr",
     "output_type": "stream",
     "text": [
      "*                                                                              *\n"
     ]
    },
    {
     "name": "stderr",
     "output_type": "stream",
     "text": [
      "*------------------------------------------------------------------------------*\n"
     ]
    },
    {
     "name": "stderr",
     "output_type": "stream",
     "text": [
      "*                                                                              *\n"
     ]
    },
    {
     "name": "stderr",
     "output_type": "stream",
     "text": [
      "*    CURRENT TIME                   = 1.5565e-01                               *\n"
     ]
    },
    {
     "name": "stderr",
     "output_type": "stream",
     "text": [
      "*    CURRENT DT                     = 1.9056e-03                               *\n"
     ]
    },
    {
     "name": "stderr",
     "output_type": "stream",
     "text": [
      "*    CURRENT STEP                   =     80                                   *\n"
     ]
    },
    {
     "name": "stderr",
     "output_type": "stream",
     "text": [
      "*    WALL CLOCK TIMESTEP            = 7.1406e-04                               *\n"
     ]
    },
    {
     "name": "stderr",
     "output_type": "stream",
     "text": [
      "*    MEAN WALL CLOCK TIMESTEP       = 1.2188e-03                               *\n"
     ]
    },
    {
     "name": "stderr",
     "output_type": "stream",
     "text": [
      "*    WALL CLOCK TIMESTEP CELL       = 7.1406e-06                               *\n"
     ]
    },
    {
     "name": "stderr",
     "output_type": "stream",
     "text": [
      "*    MEAN WALL CLOCK TIMESTEP CELL  = 1.2188e-05                               *\n"
     ]
    },
    {
     "name": "stderr",
     "output_type": "stream",
     "text": [
      "*                                                                              *\n"
     ]
    },
    {
     "name": "stderr",
     "output_type": "stream",
     "text": [
      "*------------------------------------------------------------------------------*\n"
     ]
    },
    {
     "name": "stderr",
     "output_type": "stream",
     "text": [
      "*                                                                              *\n"
     ]
    },
    {
     "name": "stderr",
     "output_type": "stream",
     "text": [
      "*    CURRENT TIME                   = 1.5755e-01                               *\n"
     ]
    },
    {
     "name": "stderr",
     "output_type": "stream",
     "text": [
      "*    CURRENT DT                     = 1.9057e-03                               *\n"
     ]
    },
    {
     "name": "stderr",
     "output_type": "stream",
     "text": [
      "*    CURRENT STEP                   =     81                                   *\n"
     ]
    },
    {
     "name": "stderr",
     "output_type": "stream",
     "text": [
      "*    WALL CLOCK TIMESTEP            = 6.4993e-04                               *\n"
     ]
    },
    {
     "name": "stderr",
     "output_type": "stream",
     "text": [
      "*    MEAN WALL CLOCK TIMESTEP       = 1.2116e-03                               *\n"
     ]
    },
    {
     "name": "stderr",
     "output_type": "stream",
     "text": [
      "*    WALL CLOCK TIMESTEP CELL       = 6.4993e-06                               *\n"
     ]
    },
    {
     "name": "stderr",
     "output_type": "stream",
     "text": [
      "*    MEAN WALL CLOCK TIMESTEP CELL  = 1.2116e-05                               *\n"
     ]
    },
    {
     "name": "stderr",
     "output_type": "stream",
     "text": [
      "*                                                                              *\n"
     ]
    },
    {
     "name": "stderr",
     "output_type": "stream",
     "text": [
      "*------------------------------------------------------------------------------*\n"
     ]
    },
    {
     "name": "stderr",
     "output_type": "stream",
     "text": [
      "*                                                                              *\n"
     ]
    },
    {
     "name": "stderr",
     "output_type": "stream",
     "text": [
      "*    CURRENT TIME                   = 1.5946e-01                               *\n"
     ]
    },
    {
     "name": "stderr",
     "output_type": "stream",
     "text": [
      "*    CURRENT DT                     = 1.9058e-03                               *\n"
     ]
    },
    {
     "name": "stderr",
     "output_type": "stream",
     "text": [
      "*    CURRENT STEP                   =     82                                   *\n"
     ]
    },
    {
     "name": "stderr",
     "output_type": "stream",
     "text": [
      "*    WALL CLOCK TIMESTEP            = 6.3610e-04                               *\n"
     ]
    },
    {
     "name": "stderr",
     "output_type": "stream",
     "text": [
      "*    MEAN WALL CLOCK TIMESTEP       = 1.2045e-03                               *\n"
     ]
    },
    {
     "name": "stderr",
     "output_type": "stream",
     "text": [
      "*    WALL CLOCK TIMESTEP CELL       = 6.3610e-06                               *\n"
     ]
    },
    {
     "name": "stderr",
     "output_type": "stream",
     "text": [
      "*    MEAN WALL CLOCK TIMESTEP CELL  = 1.2045e-05                               *\n"
     ]
    },
    {
     "name": "stderr",
     "output_type": "stream",
     "text": [
      "*                                                                              *\n"
     ]
    },
    {
     "name": "stderr",
     "output_type": "stream",
     "text": [
      "*------------------------------------------------------------------------------*\n"
     ]
    },
    {
     "name": "stderr",
     "output_type": "stream",
     "text": [
      "*                                                                              *\n"
     ]
    },
    {
     "name": "stderr",
     "output_type": "stream",
     "text": [
      "*    CURRENT TIME                   = 1.6136e-01                               *\n"
     ]
    },
    {
     "name": "stderr",
     "output_type": "stream",
     "text": [
      "*    CURRENT DT                     = 1.9057e-03                               *\n"
     ]
    },
    {
     "name": "stderr",
     "output_type": "stream",
     "text": [
      "*    CURRENT STEP                   =     83                                   *\n"
     ]
    },
    {
     "name": "stderr",
     "output_type": "stream",
     "text": [
      "*    WALL CLOCK TIMESTEP            = 1.4988e-02                               *\n"
     ]
    },
    {
     "name": "stderr",
     "output_type": "stream",
     "text": [
      "*    MEAN WALL CLOCK TIMESTEP       = 1.3726e-03                               *\n"
     ]
    },
    {
     "name": "stderr",
     "output_type": "stream",
     "text": [
      "*    WALL CLOCK TIMESTEP CELL       = 1.4988e-04                               *\n"
     ]
    },
    {
     "name": "stderr",
     "output_type": "stream",
     "text": [
      "*    MEAN WALL CLOCK TIMESTEP CELL  = 1.3726e-05                               *\n"
     ]
    },
    {
     "name": "stderr",
     "output_type": "stream",
     "text": [
      "*                                                                              *\n"
     ]
    },
    {
     "name": "stderr",
     "output_type": "stream",
     "text": [
      "*------------------------------------------------------------------------------*\n"
     ]
    },
    {
     "name": "stderr",
     "output_type": "stream",
     "text": [
      "*                                                                              *\n"
     ]
    },
    {
     "name": "stderr",
     "output_type": "stream",
     "text": [
      "*    CURRENT TIME                   = 1.6327e-01                               *\n"
     ]
    },
    {
     "name": "stderr",
     "output_type": "stream",
     "text": [
      "*    CURRENT DT                     = 1.9058e-03                               *\n"
     ]
    },
    {
     "name": "stderr",
     "output_type": "stream",
     "text": [
      "*    CURRENT STEP                   =     84                                   *\n"
     ]
    },
    {
     "name": "stderr",
     "output_type": "stream",
     "text": [
      "*    WALL CLOCK TIMESTEP            = 4.5395e-04                               *\n"
     ]
    },
    {
     "name": "stderr",
     "output_type": "stream",
     "text": [
      "*    MEAN WALL CLOCK TIMESTEP       = 1.3616e-03                               *\n"
     ]
    },
    {
     "name": "stderr",
     "output_type": "stream",
     "text": [
      "*    WALL CLOCK TIMESTEP CELL       = 4.5395e-06                               *\n"
     ]
    },
    {
     "name": "stderr",
     "output_type": "stream",
     "text": [
      "*    MEAN WALL CLOCK TIMESTEP CELL  = 1.3616e-05                               *\n"
     ]
    },
    {
     "name": "stderr",
     "output_type": "stream",
     "text": [
      "*                                                                              *\n"
     ]
    },
    {
     "name": "stderr",
     "output_type": "stream",
     "text": [
      "*------------------------------------------------------------------------------*\n"
     ]
    },
    {
     "name": "stderr",
     "output_type": "stream",
     "text": [
      "*                                                                              *\n"
     ]
    },
    {
     "name": "stderr",
     "output_type": "stream",
     "text": [
      "*    CURRENT TIME                   = 1.6518e-01                               *\n"
     ]
    },
    {
     "name": "stderr",
     "output_type": "stream",
     "text": [
      "*    CURRENT DT                     = 1.9059e-03                               *\n"
     ]
    },
    {
     "name": "stderr",
     "output_type": "stream",
     "text": [
      "*    CURRENT STEP                   =     85                                   *\n"
     ]
    },
    {
     "name": "stderr",
     "output_type": "stream",
     "text": [
      "*    WALL CLOCK TIMESTEP            = 3.4404e-04                               *\n"
     ]
    },
    {
     "name": "stderr",
     "output_type": "stream",
     "text": [
      "*    MEAN WALL CLOCK TIMESTEP       = 1.3494e-03                               *\n"
     ]
    },
    {
     "name": "stderr",
     "output_type": "stream",
     "text": [
      "*    WALL CLOCK TIMESTEP CELL       = 3.4404e-06                               *\n"
     ]
    },
    {
     "name": "stderr",
     "output_type": "stream",
     "text": [
      "*    MEAN WALL CLOCK TIMESTEP CELL  = 1.3494e-05                               *\n"
     ]
    },
    {
     "name": "stderr",
     "output_type": "stream",
     "text": [
      "*                                                                              *\n"
     ]
    },
    {
     "name": "stderr",
     "output_type": "stream",
     "text": [
      "*------------------------------------------------------------------------------*\n"
     ]
    },
    {
     "name": "stderr",
     "output_type": "stream",
     "text": [
      "*                                                                              *\n"
     ]
    },
    {
     "name": "stderr",
     "output_type": "stream",
     "text": [
      "*    CURRENT TIME                   = 1.6708e-01                               *\n"
     ]
    },
    {
     "name": "stderr",
     "output_type": "stream",
     "text": [
      "*    CURRENT DT                     = 1.9059e-03                               *\n"
     ]
    },
    {
     "name": "stderr",
     "output_type": "stream",
     "text": [
      "*    CURRENT STEP                   =     86                                   *\n"
     ]
    },
    {
     "name": "stderr",
     "output_type": "stream",
     "text": [
      "*    WALL CLOCK TIMESTEP            = 2.4295e-04                               *\n"
     ]
    },
    {
     "name": "stderr",
     "output_type": "stream",
     "text": [
      "*    MEAN WALL CLOCK TIMESTEP       = 1.3364e-03                               *\n"
     ]
    },
    {
     "name": "stderr",
     "output_type": "stream",
     "text": [
      "*    WALL CLOCK TIMESTEP CELL       = 2.4295e-06                               *\n"
     ]
    },
    {
     "name": "stderr",
     "output_type": "stream",
     "text": [
      "*    MEAN WALL CLOCK TIMESTEP CELL  = 1.3364e-05                               *\n"
     ]
    },
    {
     "name": "stderr",
     "output_type": "stream",
     "text": [
      "*                                                                              *\n"
     ]
    },
    {
     "name": "stderr",
     "output_type": "stream",
     "text": [
      "*------------------------------------------------------------------------------*\n"
     ]
    },
    {
     "name": "stderr",
     "output_type": "stream",
     "text": [
      "*                                                                              *\n"
     ]
    },
    {
     "name": "stderr",
     "output_type": "stream",
     "text": [
      "*    CURRENT TIME                   = 1.6899e-01                               *\n"
     ]
    },
    {
     "name": "stderr",
     "output_type": "stream",
     "text": [
      "*    CURRENT DT                     = 1.9060e-03                               *\n"
     ]
    },
    {
     "name": "stderr",
     "output_type": "stream",
     "text": [
      "*    CURRENT STEP                   =     87                                   *\n"
     ]
    },
    {
     "name": "stderr",
     "output_type": "stream",
     "text": [
      "*    WALL CLOCK TIMESTEP            = 2.7323e-04                               *\n"
     ]
    },
    {
     "name": "stderr",
     "output_type": "stream",
     "text": [
      "*    MEAN WALL CLOCK TIMESTEP       = 1.3241e-03                               *\n"
     ]
    },
    {
     "name": "stderr",
     "output_type": "stream",
     "text": [
      "*    WALL CLOCK TIMESTEP CELL       = 2.7323e-06                               *\n"
     ]
    },
    {
     "name": "stderr",
     "output_type": "stream",
     "text": [
      "*    MEAN WALL CLOCK TIMESTEP CELL  = 1.3241e-05                               *\n"
     ]
    },
    {
     "name": "stderr",
     "output_type": "stream",
     "text": [
      "*                                                                              *\n"
     ]
    },
    {
     "name": "stderr",
     "output_type": "stream",
     "text": [
      "*------------------------------------------------------------------------------*\n"
     ]
    },
    {
     "name": "stderr",
     "output_type": "stream",
     "text": [
      "*                                                                              *\n"
     ]
    },
    {
     "name": "stderr",
     "output_type": "stream",
     "text": [
      "*    CURRENT TIME                   = 1.7089e-01                               *\n"
     ]
    },
    {
     "name": "stderr",
     "output_type": "stream",
     "text": [
      "*    CURRENT DT                     = 1.9061e-03                               *\n"
     ]
    },
    {
     "name": "stderr",
     "output_type": "stream",
     "text": [
      "*    CURRENT STEP                   =     88                                   *\n"
     ]
    },
    {
     "name": "stderr",
     "output_type": "stream",
     "text": [
      "*    WALL CLOCK TIMESTEP            = 4.9028e-03                               *\n"
     ]
    },
    {
     "name": "stderr",
     "output_type": "stream",
     "text": [
      "*    MEAN WALL CLOCK TIMESTEP       = 1.3652e-03                               *\n"
     ]
    },
    {
     "name": "stderr",
     "output_type": "stream",
     "text": [
      "*    WALL CLOCK TIMESTEP CELL       = 4.9028e-05                               *\n"
     ]
    },
    {
     "name": "stderr",
     "output_type": "stream",
     "text": [
      "*    MEAN WALL CLOCK TIMESTEP CELL  = 1.3652e-05                               *\n"
     ]
    },
    {
     "name": "stderr",
     "output_type": "stream",
     "text": [
      "*                                                                              *\n"
     ]
    },
    {
     "name": "stderr",
     "output_type": "stream",
     "text": [
      "*------------------------------------------------------------------------------*\n"
     ]
    },
    {
     "name": "stderr",
     "output_type": "stream",
     "text": [
      "*                                                                              *\n"
     ]
    },
    {
     "name": "stderr",
     "output_type": "stream",
     "text": [
      "*    CURRENT TIME                   = 1.7280e-01                               *\n"
     ]
    },
    {
     "name": "stderr",
     "output_type": "stream",
     "text": [
      "*    CURRENT DT                     = 1.9060e-03                               *\n"
     ]
    },
    {
     "name": "stderr",
     "output_type": "stream",
     "text": [
      "*    CURRENT STEP                   =     89                                   *\n"
     ]
    },
    {
     "name": "stderr",
     "output_type": "stream",
     "text": [
      "*    WALL CLOCK TIMESTEP            = 3.3188e-04                               *\n"
     ]
    },
    {
     "name": "stderr",
     "output_type": "stream",
     "text": [
      "*    MEAN WALL CLOCK TIMESTEP       = 1.3535e-03                               *\n"
     ]
    },
    {
     "name": "stderr",
     "output_type": "stream",
     "text": [
      "*    WALL CLOCK TIMESTEP CELL       = 3.3188e-06                               *\n"
     ]
    },
    {
     "name": "stderr",
     "output_type": "stream",
     "text": [
      "*    MEAN WALL CLOCK TIMESTEP CELL  = 1.3535e-05                               *\n"
     ]
    },
    {
     "name": "stderr",
     "output_type": "stream",
     "text": [
      "*                                                                              *\n"
     ]
    },
    {
     "name": "stderr",
     "output_type": "stream",
     "text": [
      "*------------------------------------------------------------------------------*\n"
     ]
    },
    {
     "name": "stderr",
     "output_type": "stream",
     "text": [
      "*                                                                              *\n"
     ]
    },
    {
     "name": "stderr",
     "output_type": "stream",
     "text": [
      "*    CURRENT TIME                   = 1.7471e-01                               *\n"
     ]
    },
    {
     "name": "stderr",
     "output_type": "stream",
     "text": [
      "*    CURRENT DT                     = 1.9061e-03                               *\n"
     ]
    },
    {
     "name": "stderr",
     "output_type": "stream",
     "text": [
      "*    CURRENT STEP                   =     90                                   *\n"
     ]
    },
    {
     "name": "stderr",
     "output_type": "stream",
     "text": [
      "*    WALL CLOCK TIMESTEP            = 3.5596e-04                               *\n"
     ]
    },
    {
     "name": "stderr",
     "output_type": "stream",
     "text": [
      "*    MEAN WALL CLOCK TIMESTEP       = 1.3422e-03                               *\n"
     ]
    },
    {
     "name": "stderr",
     "output_type": "stream",
     "text": [
      "*    WALL CLOCK TIMESTEP CELL       = 3.5596e-06                               *\n"
     ]
    },
    {
     "name": "stderr",
     "output_type": "stream",
     "text": [
      "*    MEAN WALL CLOCK TIMESTEP CELL  = 1.3422e-05                               *\n"
     ]
    },
    {
     "name": "stderr",
     "output_type": "stream",
     "text": [
      "*                                                                              *\n"
     ]
    },
    {
     "name": "stderr",
     "output_type": "stream",
     "text": [
      "*------------------------------------------------------------------------------*\n"
     ]
    },
    {
     "name": "stderr",
     "output_type": "stream",
     "text": [
      "*                                                                              *\n"
     ]
    },
    {
     "name": "stderr",
     "output_type": "stream",
     "text": [
      "*    CURRENT TIME                   = 1.7661e-01                               *\n"
     ]
    },
    {
     "name": "stderr",
     "output_type": "stream",
     "text": [
      "*    CURRENT DT                     = 1.9062e-03                               *\n"
     ]
    },
    {
     "name": "stderr",
     "output_type": "stream",
     "text": [
      "*    CURRENT STEP                   =     91                                   *\n"
     ]
    },
    {
     "name": "stderr",
     "output_type": "stream",
     "text": [
      "*    WALL CLOCK TIMESTEP            = 3.1805e-04                               *\n"
     ]
    },
    {
     "name": "stderr",
     "output_type": "stream",
     "text": [
      "*    MEAN WALL CLOCK TIMESTEP       = 1.3309e-03                               *\n"
     ]
    },
    {
     "name": "stderr",
     "output_type": "stream",
     "text": [
      "*    WALL CLOCK TIMESTEP CELL       = 3.1805e-06                               *\n"
     ]
    },
    {
     "name": "stderr",
     "output_type": "stream",
     "text": [
      "*    MEAN WALL CLOCK TIMESTEP CELL  = 1.3309e-05                               *\n"
     ]
    },
    {
     "name": "stderr",
     "output_type": "stream",
     "text": [
      "*                                                                              *\n"
     ]
    },
    {
     "name": "stderr",
     "output_type": "stream",
     "text": [
      "*------------------------------------------------------------------------------*\n"
     ]
    },
    {
     "name": "stderr",
     "output_type": "stream",
     "text": [
      "*                                                                              *\n"
     ]
    },
    {
     "name": "stderr",
     "output_type": "stream",
     "text": [
      "*    CURRENT TIME                   = 1.7852e-01                               *\n"
     ]
    },
    {
     "name": "stderr",
     "output_type": "stream",
     "text": [
      "*    CURRENT DT                     = 1.9062e-03                               *\n"
     ]
    },
    {
     "name": "stderr",
     "output_type": "stream",
     "text": [
      "*    CURRENT STEP                   =     92                                   *\n"
     ]
    },
    {
     "name": "stderr",
     "output_type": "stream",
     "text": [
      "*    WALL CLOCK TIMESTEP            = 3.3498e-04                               *\n"
     ]
    },
    {
     "name": "stderr",
     "output_type": "stream",
     "text": [
      "*    MEAN WALL CLOCK TIMESTEP       = 1.3199e-03                               *\n"
     ]
    },
    {
     "name": "stderr",
     "output_type": "stream",
     "text": [
      "*    WALL CLOCK TIMESTEP CELL       = 3.3498e-06                               *\n"
     ]
    },
    {
     "name": "stderr",
     "output_type": "stream",
     "text": [
      "*    MEAN WALL CLOCK TIMESTEP CELL  = 1.3199e-05                               *\n"
     ]
    },
    {
     "name": "stderr",
     "output_type": "stream",
     "text": [
      "*                                                                              *\n"
     ]
    },
    {
     "name": "stderr",
     "output_type": "stream",
     "text": [
      "*------------------------------------------------------------------------------*\n"
     ]
    },
    {
     "name": "stderr",
     "output_type": "stream",
     "text": [
      "*                                                                              *\n"
     ]
    },
    {
     "name": "stderr",
     "output_type": "stream",
     "text": [
      "*    CURRENT TIME                   = 1.8042e-01                               *\n"
     ]
    },
    {
     "name": "stderr",
     "output_type": "stream",
     "text": [
      "*    CURRENT DT                     = 1.9062e-03                               *\n"
     ]
    },
    {
     "name": "stderr",
     "output_type": "stream",
     "text": [
      "*    CURRENT STEP                   =     93                                   *\n"
     ]
    },
    {
     "name": "stderr",
     "output_type": "stream",
     "text": [
      "*    WALL CLOCK TIMESTEP            = 4.8170e-03                               *\n"
     ]
    },
    {
     "name": "stderr",
     "output_type": "stream",
     "text": [
      "*    MEAN WALL CLOCK TIMESTEP       = 1.3579e-03                               *\n"
     ]
    },
    {
     "name": "stderr",
     "output_type": "stream",
     "text": [
      "*    WALL CLOCK TIMESTEP CELL       = 4.8170e-05                               *\n"
     ]
    },
    {
     "name": "stderr",
     "output_type": "stream",
     "text": [
      "*    MEAN WALL CLOCK TIMESTEP CELL  = 1.3579e-05                               *\n"
     ]
    },
    {
     "name": "stderr",
     "output_type": "stream",
     "text": [
      "*                                                                              *\n"
     ]
    },
    {
     "name": "stderr",
     "output_type": "stream",
     "text": [
      "*------------------------------------------------------------------------------*\n"
     ]
    },
    {
     "name": "stderr",
     "output_type": "stream",
     "text": [
      "*                                                                              *\n"
     ]
    },
    {
     "name": "stderr",
     "output_type": "stream",
     "text": [
      "*    CURRENT TIME                   = 1.8233e-01                               *\n"
     ]
    },
    {
     "name": "stderr",
     "output_type": "stream",
     "text": [
      "*    CURRENT DT                     = 1.9064e-03                               *\n"
     ]
    },
    {
     "name": "stderr",
     "output_type": "stream",
     "text": [
      "*    CURRENT STEP                   =     94                                   *\n"
     ]
    },
    {
     "name": "stderr",
     "output_type": "stream",
     "text": [
      "*    WALL CLOCK TIMESTEP            = 2.6488e-04                               *\n"
     ]
    },
    {
     "name": "stderr",
     "output_type": "stream",
     "text": [
      "*    MEAN WALL CLOCK TIMESTEP       = 1.3462e-03                               *\n"
     ]
    },
    {
     "name": "stderr",
     "output_type": "stream",
     "text": [
      "*    WALL CLOCK TIMESTEP CELL       = 2.6488e-06                               *\n"
     ]
    },
    {
     "name": "stderr",
     "output_type": "stream",
     "text": [
      "*    MEAN WALL CLOCK TIMESTEP CELL  = 1.3462e-05                               *\n"
     ]
    },
    {
     "name": "stderr",
     "output_type": "stream",
     "text": [
      "*                                                                              *\n"
     ]
    },
    {
     "name": "stderr",
     "output_type": "stream",
     "text": [
      "*------------------------------------------------------------------------------*\n"
     ]
    },
    {
     "name": "stderr",
     "output_type": "stream",
     "text": [
      "*                                                                              *\n"
     ]
    },
    {
     "name": "stderr",
     "output_type": "stream",
     "text": [
      "*    CURRENT TIME                   = 1.8424e-01                               *\n"
     ]
    },
    {
     "name": "stderr",
     "output_type": "stream",
     "text": [
      "*    CURRENT DT                     = 1.9063e-03                               *\n"
     ]
    },
    {
     "name": "stderr",
     "output_type": "stream",
     "text": [
      "*    CURRENT STEP                   =     95                                   *\n"
     ]
    },
    {
     "name": "stderr",
     "output_type": "stream",
     "text": [
      "*    WALL CLOCK TIMESTEP            = 2.9540e-04                               *\n"
     ]
    },
    {
     "name": "stderr",
     "output_type": "stream",
     "text": [
      "*    MEAN WALL CLOCK TIMESTEP       = 1.3350e-03                               *\n"
     ]
    },
    {
     "name": "stderr",
     "output_type": "stream",
     "text": [
      "*    WALL CLOCK TIMESTEP CELL       = 2.9540e-06                               *\n"
     ]
    },
    {
     "name": "stderr",
     "output_type": "stream",
     "text": [
      "*    MEAN WALL CLOCK TIMESTEP CELL  = 1.3350e-05                               *\n"
     ]
    },
    {
     "name": "stderr",
     "output_type": "stream",
     "text": [
      "*                                                                              *\n"
     ]
    },
    {
     "name": "stderr",
     "output_type": "stream",
     "text": [
      "*------------------------------------------------------------------------------*\n"
     ]
    },
    {
     "name": "stderr",
     "output_type": "stream",
     "text": [
      "*                                                                              *\n"
     ]
    },
    {
     "name": "stderr",
     "output_type": "stream",
     "text": [
      "*    CURRENT TIME                   = 1.8614e-01                               *\n"
     ]
    },
    {
     "name": "stderr",
     "output_type": "stream",
     "text": [
      "*    CURRENT DT                     = 1.9064e-03                               *\n"
     ]
    },
    {
     "name": "stderr",
     "output_type": "stream",
     "text": [
      "*    CURRENT STEP                   =     96                                   *\n"
     ]
    },
    {
     "name": "stderr",
     "output_type": "stream",
     "text": [
      "*    WALL CLOCK TIMESTEP            = 4.0555e-04                               *\n"
     ]
    },
    {
     "name": "stderr",
     "output_type": "stream",
     "text": [
      "*    MEAN WALL CLOCK TIMESTEP       = 1.3252e-03                               *\n"
     ]
    },
    {
     "name": "stderr",
     "output_type": "stream",
     "text": [
      "*    WALL CLOCK TIMESTEP CELL       = 4.0555e-06                               *\n"
     ]
    },
    {
     "name": "stderr",
     "output_type": "stream",
     "text": [
      "*    MEAN WALL CLOCK TIMESTEP CELL  = 1.3252e-05                               *\n"
     ]
    },
    {
     "name": "stderr",
     "output_type": "stream",
     "text": [
      "*                                                                              *\n"
     ]
    },
    {
     "name": "stderr",
     "output_type": "stream",
     "text": [
      "*------------------------------------------------------------------------------*\n"
     ]
    },
    {
     "name": "stderr",
     "output_type": "stream",
     "text": [
      "*                                                                              *\n"
     ]
    },
    {
     "name": "stderr",
     "output_type": "stream",
     "text": [
      "*    CURRENT TIME                   = 1.8805e-01                               *\n"
     ]
    },
    {
     "name": "stderr",
     "output_type": "stream",
     "text": [
      "*    CURRENT DT                     = 1.9065e-03                               *\n"
     ]
    },
    {
     "name": "stderr",
     "output_type": "stream",
     "text": [
      "*    CURRENT STEP                   =     97                                   *\n"
     ]
    },
    {
     "name": "stderr",
     "output_type": "stream",
     "text": [
      "*    WALL CLOCK TIMESTEP            = 3.4785e-04                               *\n"
     ]
    },
    {
     "name": "stderr",
     "output_type": "stream",
     "text": [
      "*    MEAN WALL CLOCK TIMESTEP       = 1.3150e-03                               *\n"
     ]
    },
    {
     "name": "stderr",
     "output_type": "stream",
     "text": [
      "*    WALL CLOCK TIMESTEP CELL       = 3.4785e-06                               *\n"
     ]
    },
    {
     "name": "stderr",
     "output_type": "stream",
     "text": [
      "*    MEAN WALL CLOCK TIMESTEP CELL  = 1.3150e-05                               *\n"
     ]
    },
    {
     "name": "stderr",
     "output_type": "stream",
     "text": [
      "*                                                                              *\n"
     ]
    },
    {
     "name": "stderr",
     "output_type": "stream",
     "text": [
      "*------------------------------------------------------------------------------*\n"
     ]
    },
    {
     "name": "stderr",
     "output_type": "stream",
     "text": [
      "*                                                                              *\n"
     ]
    },
    {
     "name": "stderr",
     "output_type": "stream",
     "text": [
      "*    CURRENT TIME                   = 1.8996e-01                               *\n"
     ]
    },
    {
     "name": "stderr",
     "output_type": "stream",
     "text": [
      "*    CURRENT DT                     = 1.9064e-03                               *\n"
     ]
    },
    {
     "name": "stderr",
     "output_type": "stream",
     "text": [
      "*    CURRENT STEP                   =     98                                   *\n"
     ]
    },
    {
     "name": "stderr",
     "output_type": "stream",
     "text": [
      "*    WALL CLOCK TIMESTEP            = 3.2187e-04                               *\n"
     ]
    },
    {
     "name": "stderr",
     "output_type": "stream",
     "text": [
      "*    MEAN WALL CLOCK TIMESTEP       = 1.3048e-03                               *\n"
     ]
    },
    {
     "name": "stderr",
     "output_type": "stream",
     "text": [
      "*    WALL CLOCK TIMESTEP CELL       = 3.2187e-06                               *\n"
     ]
    },
    {
     "name": "stderr",
     "output_type": "stream",
     "text": [
      "*    MEAN WALL CLOCK TIMESTEP CELL  = 1.3048e-05                               *\n"
     ]
    },
    {
     "name": "stderr",
     "output_type": "stream",
     "text": [
      "*                                                                              *\n"
     ]
    },
    {
     "name": "stderr",
     "output_type": "stream",
     "text": [
      "*------------------------------------------------------------------------------*\n"
     ]
    },
    {
     "name": "stderr",
     "output_type": "stream",
     "text": [
      "*                                                                              *\n"
     ]
    },
    {
     "name": "stderr",
     "output_type": "stream",
     "text": [
      "*    CURRENT TIME                   = 1.9186e-01                               *\n"
     ]
    },
    {
     "name": "stderr",
     "output_type": "stream",
     "text": [
      "*    CURRENT DT                     = 1.9065e-03                               *\n"
     ]
    },
    {
     "name": "stderr",
     "output_type": "stream",
     "text": [
      "*    CURRENT STEP                   =     99                                   *\n"
     ]
    },
    {
     "name": "stderr",
     "output_type": "stream",
     "text": [
      "*    WALL CLOCK TIMESTEP            = 7.0212e-03                               *\n"
     ]
    },
    {
     "name": "stderr",
     "output_type": "stream",
     "text": [
      "*    MEAN WALL CLOCK TIMESTEP       = 1.3631e-03                               *\n"
     ]
    },
    {
     "name": "stderr",
     "output_type": "stream",
     "text": [
      "*    WALL CLOCK TIMESTEP CELL       = 7.0212e-05                               *\n"
     ]
    },
    {
     "name": "stderr",
     "output_type": "stream",
     "text": [
      "*    MEAN WALL CLOCK TIMESTEP CELL  = 1.3631e-05                               *\n"
     ]
    },
    {
     "name": "stderr",
     "output_type": "stream",
     "text": [
      "*                                                                              *\n"
     ]
    },
    {
     "name": "stderr",
     "output_type": "stream",
     "text": [
      "*------------------------------------------------------------------------------*\n"
     ]
    },
    {
     "name": "stderr",
     "output_type": "stream",
     "text": [
      "*                                                                              *\n"
     ]
    },
    {
     "name": "stderr",
     "output_type": "stream",
     "text": [
      "*    CURRENT TIME                   = 1.9377e-01                               *\n"
     ]
    },
    {
     "name": "stderr",
     "output_type": "stream",
     "text": [
      "*    CURRENT DT                     = 1.9066e-03                               *\n"
     ]
    },
    {
     "name": "stderr",
     "output_type": "stream",
     "text": [
      "*    CURRENT STEP                   =    100                                   *\n"
     ]
    },
    {
     "name": "stderr",
     "output_type": "stream",
     "text": [
      "*    WALL CLOCK TIMESTEP            = 4.2081e-04                               *\n"
     ]
    },
    {
     "name": "stderr",
     "output_type": "stream",
     "text": [
      "*    MEAN WALL CLOCK TIMESTEP       = 1.3536e-03                               *\n"
     ]
    },
    {
     "name": "stderr",
     "output_type": "stream",
     "text": [
      "*    WALL CLOCK TIMESTEP CELL       = 4.2081e-06                               *\n"
     ]
    },
    {
     "name": "stderr",
     "output_type": "stream",
     "text": [
      "*    MEAN WALL CLOCK TIMESTEP CELL  = 1.3536e-05                               *\n"
     ]
    },
    {
     "name": "stderr",
     "output_type": "stream",
     "text": [
      "*                                                                              *\n"
     ]
    },
    {
     "name": "stderr",
     "output_type": "stream",
     "text": [
      "*------------------------------------------------------------------------------*\n"
     ]
    },
    {
     "name": "stderr",
     "output_type": "stream",
     "text": [
      "*                                                                              *\n"
     ]
    },
    {
     "name": "stderr",
     "output_type": "stream",
     "text": [
      "*    CURRENT TIME                   = 1.9568e-01                               *\n"
     ]
    },
    {
     "name": "stderr",
     "output_type": "stream",
     "text": [
      "*    CURRENT DT                     = 1.9066e-03                               *\n"
     ]
    },
    {
     "name": "stderr",
     "output_type": "stream",
     "text": [
      "*    CURRENT STEP                   =    101                                   *\n"
     ]
    },
    {
     "name": "stderr",
     "output_type": "stream",
     "text": [
      "*    WALL CLOCK TIMESTEP            = 4.8614e-04                               *\n"
     ]
    },
    {
     "name": "stderr",
     "output_type": "stream",
     "text": [
      "*    MEAN WALL CLOCK TIMESTEP       = 1.3449e-03                               *\n"
     ]
    },
    {
     "name": "stderr",
     "output_type": "stream",
     "text": [
      "*    WALL CLOCK TIMESTEP CELL       = 4.8614e-06                               *\n"
     ]
    },
    {
     "name": "stderr",
     "output_type": "stream",
     "text": [
      "*    MEAN WALL CLOCK TIMESTEP CELL  = 1.3449e-05                               *\n"
     ]
    },
    {
     "name": "stderr",
     "output_type": "stream",
     "text": [
      "*                                                                              *\n"
     ]
    },
    {
     "name": "stderr",
     "output_type": "stream",
     "text": [
      "*------------------------------------------------------------------------------*\n"
     ]
    },
    {
     "name": "stderr",
     "output_type": "stream",
     "text": [
      "*                                                                              *\n"
     ]
    },
    {
     "name": "stderr",
     "output_type": "stream",
     "text": [
      "*    CURRENT TIME                   = 1.9758e-01                               *\n"
     ]
    },
    {
     "name": "stderr",
     "output_type": "stream",
     "text": [
      "*    CURRENT DT                     = 1.9066e-03                               *\n"
     ]
    },
    {
     "name": "stderr",
     "output_type": "stream",
     "text": [
      "*    CURRENT STEP                   =    102                                   *\n"
     ]
    },
    {
     "name": "stderr",
     "output_type": "stream",
     "text": [
      "*    WALL CLOCK TIMESTEP            = 4.6992e-04                               *\n"
     ]
    },
    {
     "name": "stderr",
     "output_type": "stream",
     "text": [
      "*    MEAN WALL CLOCK TIMESTEP       = 1.3363e-03                               *\n"
     ]
    },
    {
     "name": "stderr",
     "output_type": "stream",
     "text": [
      "*    WALL CLOCK TIMESTEP CELL       = 4.6992e-06                               *\n"
     ]
    },
    {
     "name": "stderr",
     "output_type": "stream",
     "text": [
      "*    MEAN WALL CLOCK TIMESTEP CELL  = 1.3363e-05                               *\n"
     ]
    },
    {
     "name": "stderr",
     "output_type": "stream",
     "text": [
      "*                                                                              *\n"
     ]
    },
    {
     "name": "stderr",
     "output_type": "stream",
     "text": [
      "*------------------------------------------------------------------------------*\n"
     ]
    },
    {
     "name": "stderr",
     "output_type": "stream",
     "text": [
      "*                                                                              *\n"
     ]
    },
    {
     "name": "stderr",
     "output_type": "stream",
     "text": [
      "*    CURRENT TIME                   = 1.9949e-01                               *\n"
     ]
    },
    {
     "name": "stderr",
     "output_type": "stream",
     "text": [
      "*    CURRENT DT                     = 1.9066e-03                               *\n"
     ]
    },
    {
     "name": "stderr",
     "output_type": "stream",
     "text": [
      "*    CURRENT STEP                   =    103                                   *\n"
     ]
    },
    {
     "name": "stderr",
     "output_type": "stream",
     "text": [
      "*    WALL CLOCK TIMESTEP            = 4.7588e-04                               *\n"
     ]
    },
    {
     "name": "stderr",
     "output_type": "stream",
     "text": [
      "*    MEAN WALL CLOCK TIMESTEP       = 1.3278e-03                               *\n"
     ]
    },
    {
     "name": "stderr",
     "output_type": "stream",
     "text": [
      "*    WALL CLOCK TIMESTEP CELL       = 4.7588e-06                               *\n"
     ]
    },
    {
     "name": "stderr",
     "output_type": "stream",
     "text": [
      "*    MEAN WALL CLOCK TIMESTEP CELL  = 1.3278e-05                               *\n"
     ]
    },
    {
     "name": "stderr",
     "output_type": "stream",
     "text": [
      "*                                                                              *\n"
     ]
    },
    {
     "name": "stderr",
     "output_type": "stream",
     "text": [
      "*------------------------------------------------------------------------------*\n"
     ]
    },
    {
     "name": "stderr",
     "output_type": "stream",
     "text": [
      "*                                                                              *\n"
     ]
    },
    {
     "name": "stderr",
     "output_type": "stream",
     "text": [
      "*    CURRENT TIME                   = 2.0140e-01                               *\n"
     ]
    },
    {
     "name": "stderr",
     "output_type": "stream",
     "text": [
      "*    CURRENT DT                     = 1.9067e-03                               *\n"
     ]
    },
    {
     "name": "stderr",
     "output_type": "stream",
     "text": [
      "*    CURRENT STEP                   =    104                                   *\n"
     ]
    },
    {
     "name": "stderr",
     "output_type": "stream",
     "text": [
      "*    WALL CLOCK TIMESTEP            = 6.4461e-03                               *\n"
     ]
    },
    {
     "name": "stderr",
     "output_type": "stream",
     "text": [
      "*    MEAN WALL CLOCK TIMESTEP       = 1.3775e-03                               *\n"
     ]
    },
    {
     "name": "stderr",
     "output_type": "stream",
     "text": [
      "*    WALL CLOCK TIMESTEP CELL       = 6.4461e-05                               *\n"
     ]
    },
    {
     "name": "stderr",
     "output_type": "stream",
     "text": [
      "*    MEAN WALL CLOCK TIMESTEP CELL  = 1.3775e-05                               *\n"
     ]
    },
    {
     "name": "stderr",
     "output_type": "stream",
     "text": [
      "*                                                                              *\n"
     ]
    },
    {
     "name": "stderr",
     "output_type": "stream",
     "text": [
      "*------------------------------------------------------------------------------*\n"
     ]
    },
    {
     "name": "stderr",
     "output_type": "stream",
     "text": [
      "*------------------------------------------------------------------------------*\n"
     ]
    },
    {
     "name": "stderr",
     "output_type": "stream",
     "text": [
      "*                                                                              *\n"
     ]
    },
    {
     "name": "stderr",
     "output_type": "stream",
     "text": [
      "*                       SIMULATION FINISHED SUCCESSFULLY                       *\n"
     ]
    },
    {
     "name": "stderr",
     "output_type": "stream",
     "text": [
      "*                          SIMULATION TIME 3.238e+00s                          *\n"
     ]
    },
    {
     "name": "stderr",
     "output_type": "stream",
     "text": [
      "*                                                                              *\n"
     ]
    },
    {
     "name": "stderr",
     "output_type": "stream",
     "text": [
      "*          _     _    __  __        _____  _      _   _  ___  ____   ____      *\n"
     ]
    },
    {
     "name": "stderr",
     "output_type": "stream",
     "text": [
      "*         | |   / \\   \\ \\/ /       |  ___|| |    | | | ||_ _||  _ \\ / ___|     *\n"
     ]
    },
    {
     "name": "stderr",
     "output_type": "stream",
     "text": [
      "*      _  | |  / _ \\   \\  /  _____ | |_   | |    | | | | | | | | | |\\___ \\     *\n"
     ]
    },
    {
     "name": "stderr",
     "output_type": "stream",
     "text": [
      "*     | |_| | / ___ \\  /  \\ |_____||  _|  | |___ | |_| | | | | |_| | ___) |    *\n"
     ]
    },
    {
     "name": "stderr",
     "output_type": "stream",
     "text": [
      "*      \\___/ /_/   \\_\\/_/\\_\\       |_|    |_____| \\___/ |___||____/ |____/     *\n"
     ]
    },
    {
     "name": "stderr",
     "output_type": "stream",
     "text": [
      "*                                                                              *\n"
     ]
    },
    {
     "name": "stderr",
     "output_type": "stream",
     "text": [
      "*                                                                              *\n"
     ]
    },
    {
     "name": "stderr",
     "output_type": "stream",
     "text": [
      "*------------------------------------------------------------------------------*\n"
     ]
    }
   ],
   "source": [
    "buffer_dictionary = initializer.initialization()\n",
    "sim_manager.simulate(buffer_dictionary)"
   ]
  },
  {
   "cell_type": "markdown",
   "id": "a0a0faf9",
   "metadata": {},
   "source": [
    "## Load Data\n",
    "JAX-Fluids offers post-processing tools for visualizing your simulation data. You can find them under jaxfluids.post_process."
   ]
  },
  {
   "cell_type": "code",
   "execution_count": 4,
   "id": "69ae755c",
   "metadata": {
    "execution": {
     "iopub.execute_input": "2023-12-22T17:50:48.515930Z",
     "iopub.status.busy": "2023-12-22T17:50:48.515819Z",
     "iopub.status.idle": "2023-12-22T17:50:48.522643Z",
     "shell.execute_reply": "2023-12-22T17:50:48.522447Z"
    }
   },
   "outputs": [
    {
     "name": "stdout",
     "output_type": "stream",
     "text": [
      "Loading time snapshot 0.0000e+00\n",
      "Loading time snapshot 1.1371e-02\n",
      "Loading time snapshot 2.1567e-02\n",
      "Loading time snapshot 3.1428e-02\n",
      "Loading time snapshot 4.1125e-02\n",
      "Loading time snapshot 5.0753e-02\n",
      "Loading time snapshot 6.0344e-02\n",
      "Loading time snapshot 7.1813e-02\n",
      "Loading time snapshot 8.1353e-02\n",
      "Loading time snapshot 9.0882e-02\n",
      "Loading time snapshot 1.0041e-01\n",
      "Loading time snapshot 1.1183e-01\n",
      "Loading time snapshot 1.2136e-01\n",
      "Loading time snapshot 1.3088e-01\n",
      "Loading time snapshot 1.4040e-01\n",
      "Loading time snapshot 1.5184e-01\n",
      "Loading time snapshot 1.6136e-01\n",
      "Loading time snapshot 1.7089e-01\n",
      "Loading time snapshot 1.8043e-01\n",
      "Loading time snapshot 1.9186e-01\n",
      "Loading time snapshot 2.0140e-01\n"
     ]
    }
   ],
   "source": [
    "path = sim_manager.output_writer.save_path_domain\n",
    "quantities = [\"density\", \"velocityX\", \"pressure\"]\n",
    "cell_centers, cell_sizes, times, data_dict = load_data(path, quantities)"
   ]
  },
  {
   "cell_type": "markdown",
   "id": "5ceb2c3d",
   "metadata": {},
   "source": [
    "## Visualize Data"
   ]
  },
  {
   "cell_type": "code",
   "execution_count": 5,
   "id": "b8526369",
   "metadata": {
    "execution": {
     "iopub.execute_input": "2023-12-22T17:50:48.523898Z",
     "iopub.status.busy": "2023-12-22T17:50:48.523743Z",
     "iopub.status.idle": "2023-12-22T17:50:48.763541Z",
     "shell.execute_reply": "2023-12-22T17:50:48.763261Z"
    }
   },
   "outputs": [
    {
     "data": {
      "image/png": "[encoded data removed]",
      "text/plain": [
       "<Figure size 2000x800 with 3 Axes>"
      ]
     },
     "metadata": {},
     "output_type": "display_data"
    },
    {
     "name": "stderr",
     "output_type": "stream",
     "text": [
      "/Users/dbezgin/Documents/research/devtools/miniconda3/envs/venv_jaxfluids_github/lib/python3.11/site-packages/matplotlib/animation.py:892: UserWarning: Animation was deleted without rendering anything. This is most likely not intended. To prevent deletion, assign the Animation to a variable, e.g. `anim`, that exists until you output the Animation using `plt.show()` or `anim.save()`.\n",
      "  warnings.warn(\n"
     ]
    }
   ],
   "source": [
    "nrows_ncols = (1,3)\n",
    "create_lineplot(data_dict, cell_centers, times, nrows_ncols=nrows_ncols, interval=100, static_time=0.2)"
   ]
  },
  {
   "cell_type": "code",
   "execution_count": null,
   "id": "765a237c",
   "metadata": {},
   "outputs": [],
   "source": []
  }
 ],
 "metadata": {
  "kernelspec": {
   "display_name": "Python 3",
   "language": "python",
   "name": "python3"
  },
  "language_info": {
   "codemirror_mode": {
    "name": "ipython",
    "version": 3
   },
   "file_extension": ".py",
   "mimetype": "text/x-python",
   "name": "python",
   "nbconvert_exporter": "python",
   "pygments_lexer": "ipython3",
   "version": "3.11.5"
  },
  "vscode": {
   "interpreter": {
    "hash": "485c59b705d233c4ac786e9ff85a7372a2b8cec3ed17e7bdf468ef609ba85e8d"
   }
  }
 },
 "nbformat": 4,
 "nbformat_minor": 5
}
